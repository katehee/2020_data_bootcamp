{
  "cells": [
    {
      "cell_type": "markdown",
      "metadata": {
        "id": "sGOCbjkLltMN"
      },
      "source": [
        "# Amazon + Walmart Review data "
      ]
    },
    {
      "cell_type": "markdown",
      "metadata": {
        "id": "nin4Bmy8ltMP"
      },
      "source": [
        "## - modules & pre-processing "
      ]
    },
    {
      "cell_type": "code",
      "execution_count": null,
      "metadata": {
        "scrolled": true,
        "id": "cZFSHFx9ltMQ",
        "outputId": "efb29adc-9a74-4967-ed72-ce8fc15a9228"
      },
      "outputs": [
        {
          "name": "stderr",
          "output_type": "stream",
          "text": [
            "[nltk_data] Downloading package stopwords to\n",
            "[nltk_data]     C:\\Users\\jin-u\\AppData\\Roaming\\nltk_data...\n",
            "[nltk_data]   Package stopwords is already up-to-date!\n",
            "[nltk_data] Downloading package punkt to\n",
            "[nltk_data]     C:\\Users\\jin-u\\AppData\\Roaming\\nltk_data...\n",
            "[nltk_data]   Unzipping tokenizers\\punkt.zip.\n"
          ]
        }
      ],
      "source": [
        "import os\n",
        "import warnings\n",
        "warnings.filterwarnings(action='ignore')\n",
        "\n",
        "try:\n",
        "    import pandas as pd\n",
        "except:\n",
        "    !pip install pandas\n",
        "    import pandas as pd   \n",
        "\n",
        "try:\n",
        "    import numpy as np\n",
        "except:\n",
        "    !pip install numpy\n",
        "    import numpy as np\n",
        "    \n",
        "try:\n",
        "    import matplotlib.pyplot as plt\n",
        "except:\n",
        "    !pip install matplotlib\n",
        "    import matplotlib.pyplot as plt\n",
        "    \n",
        "try:\n",
        "    import seaborn as sns\n",
        "except:\n",
        "    !pip install seaborn\n",
        "    import seaborn as sns\n",
        "    \n",
        "try:\n",
        "    import nltk\n",
        "    from nltk import word_tokenize\n",
        "    from nltk.stem import SnowballStemmer\n",
        "    from nltk.tokenize import RegexpTokenizer\n",
        "    from nltk.corpus import stopwords\n",
        "    nltk.download('stopwords')\n",
        "    nltk.download('punkt')\n",
        "except:\n",
        "    !pip install nltk\n",
        "    import nltk\n",
        "    from nltk import word_tokenize\n",
        "    from nltk.stem import SnowballStemmer\n",
        "    from nltk.tokenize import RegexpTokenizer\n",
        "    from nltk.corpus import stopwords\n",
        "    nltk.download('stopwords')\n",
        "    nltk.download('punkt')\n",
        "    \n",
        "try:\n",
        "    import re\n",
        "except:\n",
        "    !pip install re\n",
        "    import re\n",
        "\n",
        "try:\n",
        "    import tensorflow\n",
        "except:\n",
        "    !pip install tensorflow\n",
        "    \n",
        "    \n",
        "try:\n",
        "    from tqdm import tqdm\n",
        "except:\n",
        "    !pip install tqdm\n",
        "    from tqdm import tqdm\n",
        "\n",
        "try:\n",
        "    import gensim\n",
        "    from gensim.models import Word2Vec, word2vec\n",
        "except:\n",
        "    !pip install gensim\n",
        "    import gensim\n",
        "    from gensim.models import Word2Vec, word2vec\n",
        "    \n",
        "try:\n",
        "    import multiprocessing\n",
        "except:\n",
        "    !pip install multiprocessing\n",
        "    import multiprocessing\n",
        "    \n",
        "try:\n",
        "    from sklearn import preprocessing, decomposition, model_selection, metrics, pipeline\n",
        "    from sklearn.metrics import confusion_matrix, classification_report, roc_curve, auc, accuracy_score\n",
        "    from sklearn.model_selection import train_test_split, cross_val_score, StratifiedKFold, KFold\n",
        "    from sklearn.ensemble import RandomForestClassifier\n",
        "    from sklearn.feature_extraction.text import TfidfVectorizer, CountVectorizer\n",
        "    from sklearn.svm import SVC\n",
        "    from sklearn.decomposition import TruncatedSVD\n",
        "    from sklearn.linear_model import LogisticRegression\n",
        "    from sklearn.naive_bayes import MultinomialNB\n",
        "except:\n",
        "    !pip install sklearn\n",
        "    from sklearn import preprocessing, decomposition, model_selection, metrics, pipeline\n",
        "    from sklearn.metrics import confusion_matrix, classification_report, roc_curve, auc, accuracy_score\n",
        "    from sklearn.model_selection import train_test_split, cross_val_score, StratifiedKFold, KFold\n",
        "    from sklearn.ensemble import RandomForestClassifier\n",
        "    from sklearn.feature_extraction.text import TfidfVectorizer, CountVectorizer\n",
        "    from sklearn.svm import SVC\n",
        "    from sklearn.decomposition import TruncatedSVD\n",
        "    from sklearn.linear_model import LogisticRegression\n",
        "    from sklearn.naive_bayes import MultinomialNB\n",
        "    \n",
        "\n",
        "try:\n",
        "    import xgboost as xgb\n",
        "    from xgboost import XGBClassifier\n",
        "    from xgboost import XGBRegressor\n",
        "except:\n",
        "    !pip install xgboost\n",
        "    import xgboost as xgb\n",
        "    from xgboost import XGBClassifier\n",
        "    from xgboost import XGBRegressor\n",
        "    \n",
        "\n",
        "try:\n",
        "    from keras.utils import np_utils\n",
        "    from keras.preprocessing import sequence, text\n",
        "    from keras.models import Sequential\n",
        "    from keras.layers.recurrent import LSTM, GRU\n",
        "    from keras.layers.core import Dense, Activation, Dropout\n",
        "    from keras.layers.embeddings import Embedding\n",
        "    from keras.layers.normalization import BatchNormalization\n",
        "    from keras.layers import GlobalMaxPooling1D, Conv1D, MaxPooling1D, Flatten, Bidirectional, SpatialDropout1D\n",
        "    from keras.callbacks import EarlyStopping\n",
        "except:\n",
        "    !pip install keras\n",
        "    from keras.utils import np_utils\n",
        "    from keras.preprocessing import sequence, text\n",
        "    from keras.models import Sequential\n",
        "    from keras.layers.recurrent import LSTM, GRU\n",
        "    from keras.layers.core import Dense, Activation, Dropout\n",
        "    from keras.layers.embeddings import Embedding\n",
        "    from keras.layers.normalization import BatchNormalization\n",
        "    from keras.layers import GlobalMaxPooling1D, Conv1D, MaxPooling1D, Flatten, Bidirectional, SpatialDropout1D\n",
        "    from keras.callbacks import EarlyStopping"
      ]
    },
    {
      "cell_type": "code",
      "execution_count": null,
      "metadata": {
        "id": "l53QA7dqltMT"
      },
      "outputs": [],
      "source": [
        "# import amazon and walmart data \n",
        "\n",
        "amazon = pd.read_csv('./data/amazon_comment_seaweed_chip_result.csv')\n",
        "amazon = amazon.drop(amazon.columns[0], axis = 1)\n",
        "walmart = pd.read_csv('./data/walmart.csv') "
      ]
    },
    {
      "cell_type": "code",
      "execution_count": null,
      "metadata": {
        "id": "_dmwcnu_ltMU"
      },
      "outputs": [],
      "source": [
        "# trim amazon comment_date / star_rating \n",
        "\n",
        "def name_cut(x):\n",
        "    x = x.split('on ')[1]\n",
        "    return x  \n",
        "\n",
        "amazon[\"comment_date\"] = amazon[\"comment_date\"].apply(name_cut)\n",
        "\n",
        "def name_cut(x):\n",
        "    x = x.split(\" out\")[0]\n",
        "    x = float(x)\n",
        "    return x  \n",
        "\n",
        "amazon[\"star_rating\"] = amazon[\"star_rating\"].apply(name_cut)"
      ]
    },
    {
      "cell_type": "code",
      "execution_count": null,
      "metadata": {
        "id": "nRANaoPnltMU"
      },
      "outputs": [],
      "source": [
        "# merge amazon and walmart data \n",
        "\n",
        "review = pd.concat([amazon['comment'], walmart['comment']], axis = 0) \n",
        "score = pd.concat([amazon['star_rating'], walmart['score']], axis = 0) \n",
        "author = pd.concat([amazon['comment_author'], walmart['author']], axis = 0)\n",
        "date = pd.concat([amazon['comment_date'], walmart['date']], axis = 0)\n",
        "title = pd.concat([amazon['comment_title'], walmart['title']], axis = 0)\n",
        "\n",
        "review = pd.DataFrame({'date': date, 'title' : title, 'review': review, 'score': score, 'author': author})"
      ]
    },
    {
      "cell_type": "code",
      "execution_count": null,
      "metadata": {
        "id": "Ux6Oz7_7ltMV"
      },
      "outputs": [],
      "source": [
        "# stopword and stemmeing\n",
        "\n",
        "stop_words = set(stopwords.words(\"english\"))\n",
        "stop_words.update((\"yum\", \"yummy\", \"love\", \"loves\", \"great\", \"good\", \"better\", \"amazing\", \"buying\", \"found\", \"get\", \"like\", \"loved\", 'maybe', 'may', 'could', 'awesome', \n",
        "                   'definitely', 'perfect' , 'best', 'okay', 'excellent', 'disappointed', 'right', 'nice', 'however', 'maybe', 'pretty', 'thank', 'wonderful', 'terrible', \n",
        "                   'unfortunately', 'awful', 'horrible', 'worst', 'wont', 'surprised', 'one', 'bad', 'actually', 'really', 'would', 'g', 'nd', 'feoooooooooooo', 'eh', 'ugh'\n",
        "                    'everybody', 'sometime', 'state', 'fan', 'generally', 'edge', 'report', 'gross', 'buy', 'ewwwwwwww'\n",
        "))\n",
        "stemmer = SnowballStemmer(\"english\")\n",
        "TEXT_CLEANING_RE = \"\\([^)]*\\|s\\b|@\\S+|https?:\\S+|http?:\\S|[^a-zA-Z]+\""
      ]
    },
    {
      "cell_type": "code",
      "execution_count": null,
      "metadata": {
        "id": "uZ7cEQrKltMV"
      },
      "outputs": [],
      "source": [
        "# contraction\n",
        "\n",
        "contraction_mapping = {\"won't\": \"will not\",  \"ain't\": \"is not\", \"aren't\": \"are not\",\"can't\": \"cannot\", \"'cause\": \"because\", \"could've\": \"could have\", \"couldn't\": \"could not\",\n",
        "\n",
        "                       \"didn't\": \"did not\", \"doesn't\": \"does not\", \"don't\": \"do not\", \"hadn't\": \"had not\", \"hasn't\": \"has not\", \"haven't\": \"have not\",\n",
        "\n",
        "                       \"he'd\": \"he would\",\"he'll\": \"he will\", \"he's\": \"he is\", \"how'd\": \"how did\", \"how'd'y\": \"how do you\", \"how'll\": \"how will\", \"how's\": \"how is\",\n",
        "\n",
        "                       \"I'd\": \"I would\", \"I'd've\": \"I would have\", \"I'll\": \"I will\", \"I'll've\": \"I will have\",\"I'm\": \"I am\", \"I've\": \"I have\", \"i'd\": \"i would\",\n",
        "\n",
        "                       \"i'd've\": \"i would have\", \"i'll\": \"i will\",  \"i'll've\": \"i will have\",\"i'm\": \"i am\", \"i've\": \"i have\", \"isn't\": \"is not\", \"it'd\": \"it would\",\n",
        "\n",
        "                       \"it'd've\": \"it would have\", \"it'll\": \"it will\", \"it'll've\": \"it will have\",\"it's\": \"it is\", \"let's\": \"let us\", \"ma'am\": \"madam\",\n",
        "\n",
        "                       \"mayn't\": \"may not\", \"might've\": \"might have\",\"mightn't\": \"might not\",\"mightn't've\": \"might not have\", \"must've\": \"must have\",\n",
        "\n",
        "                       \"mustn't\": \"must not\", \"mustn't've\": \"must not have\", \"needn't\": \"need not\", \"needn't've\": \"need not have\",\"o'clock\": \"of the clock\",\n",
        "\n",
        "                       \"oughtn't\": \"ought not\", \"oughtn't've\": \"ought not have\", \"shan't\": \"shall not\", \"sha'n't\": \"shall not\", \"shan't've\": \"shall not have\",\n",
        "\n",
        "                       \"she'd\": \"she would\", \"she'd've\": \"she would have\", \"she'll\": \"she will\", \"she'll've\": \"she will have\", \"she's\": \"she is\",\n",
        "\n",
        "                       \"should've\": \"should have\", \"shouldn't\": \"should not\", \"shouldn't've\": \"should not have\", \"so've\": \"so have\",\"so's\": \"so as\",\n",
        "\n",
        "                       \"this's\": \"this is\",\"that'd\": \"that would\", \"that'd've\": \"that would have\", \"that's\": \"that is\", \"there'd\": \"there would\",\n",
        "\n",
        "                       \"there'd've\": \"there would have\", \"there's\": \"there is\", \"here's\": \"here is\",\"they'd\": \"they would\", \"they'd've\": \"they would have\",\n",
        "\n",
        "                       \"they'll\": \"they will\", \"they'll've\": \"they will have\", \"they're\": \"they are\", \"they've\": \"they have\", \"to've\": \"to have\",\n",
        "\n",
        "                       \"wasn't\": \"was not\", \"we'd\": \"we would\", \"we'd've\": \"we would have\", \"we'll\": \"we will\", \"we'll've\": \"we will have\", \"we're\": \"we are\",\n",
        "\n",
        "                       \"we've\": \"we have\", \"weren't\": \"were not\", \"what'll\": \"what will\", \"what'll've\": \"what will have\", \"what're\": \"what are\",\n",
        "\n",
        "                       \"what's\": \"what is\", \"what've\": \"what have\", \"when's\": \"when is\", \"when've\": \"when have\", \"where'd\": \"where did\", \"where's\": \"where is\",\n",
        "\n",
        "                       \"where've\": \"where have\", \"who'll\": \"who will\", \"who'll've\": \"who will have\", \"who's\": \"who is\", \"who've\": \"who have\",\n",
        "\n",
        "                       \"why's\": \"why is\", \"why've\": \"why have\", \"will've\": \"will have\", \"won't\": \"will not\", \"won't've\": \"will not have\",\n",
        "\n",
        "                       \"would've\": \"would have\", \"wouldn't\": \"would not\", \"wouldn't've\": \"would not have\", \"y'all\": \"you all\",\n",
        "\n",
        "                       \"y'all'd\": \"you all would\",\"y'all'd've\": \"you all would have\",\"y'all're\": \"you all are\",\"y'all've\": \"you all have\",\n",
        "\n",
        "                       \"you'd\": \"you would\", \"you'd've\": \"you would have\", \"you'll\": \"you will\", \"you'll've\": \"you will have\",\n",
        "\n",
        "                       \"you're\": \"you are\", \"you've\": \"you have\"}"
      ]
    },
    {
      "cell_type": "code",
      "execution_count": null,
      "metadata": {
        "id": "ODMGJpjFltMW"
      },
      "outputs": [],
      "source": [
        "# pre-processing \n",
        "\n",
        "def preprocess(text, stem=False):\n",
        "    newString = re.sub(TEXT_CLEANING_RE, ' ', str(text).lower()).strip()\n",
        "    newString = ' '.join([contraction_mapping[t] if t in contraction_mapping else t for t in newString.split(\" \")])  \n",
        "\n",
        "    tokens = []\n",
        "    for token in newString.split():\n",
        "        if token not in stop_words and len(token) > 1:\n",
        "            if stem:\n",
        "                tokens.append(stemmer.stem(token))\n",
        "            else:\n",
        "                tokens.append(token)\n",
        "    return \", \".join(tokens)"
      ]
    },
    {
      "cell_type": "code",
      "execution_count": null,
      "metadata": {
        "id": "YF8sQa2fltMW"
      },
      "outputs": [],
      "source": [
        "review['cleaned_review'] = review['review'].apply(lambda x: preprocess(x))"
      ]
    },
    {
      "cell_type": "code",
      "execution_count": null,
      "metadata": {
        "id": "HKIebvxdltMX",
        "outputId": "931cbc72-6374-4acb-9698-a7fd0c429b1b"
      },
      "outputs": [
        {
          "data": {
            "text/plain": [
              "date              0\n",
              "title             1\n",
              "review            1\n",
              "score             0\n",
              "author            1\n",
              "cleaned_review    0\n",
              "dtype: int64"
            ]
          },
          "execution_count": 79,
          "metadata": {},
          "output_type": "execute_result"
        }
      ],
      "source": [
        "# check for null value\n",
        "\n",
        "review.isnull().sum()"
      ]
    },
    {
      "cell_type": "code",
      "execution_count": null,
      "metadata": {
        "id": "WS6MP_WmltMX",
        "outputId": "09ac82bc-778d-45f1-e46a-161bb0d1b09c"
      },
      "outputs": [
        {
          "data": {
            "text/html": [
              "<div>\n",
              "<style scoped>\n",
              "    .dataframe tbody tr th:only-of-type {\n",
              "        vertical-align: middle;\n",
              "    }\n",
              "\n",
              "    .dataframe tbody tr th {\n",
              "        vertical-align: top;\n",
              "    }\n",
              "\n",
              "    .dataframe thead th {\n",
              "        text-align: right;\n",
              "    }\n",
              "</style>\n",
              "<table border=\"1\" class=\"dataframe\">\n",
              "  <thead>\n",
              "    <tr style=\"text-align: right;\">\n",
              "      <th></th>\n",
              "      <th>date</th>\n",
              "      <th>title</th>\n",
              "      <th>review</th>\n",
              "      <th>score</th>\n",
              "      <th>author</th>\n",
              "      <th>cleaned_review</th>\n",
              "    </tr>\n",
              "  </thead>\n",
              "  <tbody>\n",
              "    <tr>\n",
              "      <th>2127</th>\n",
              "      <td>June 4, 2018</td>\n",
              "      <td>The packaging sucks very disappointed</td>\n",
              "      <td>NaN</td>\n",
              "      <td>1.0</td>\n",
              "      <td>Sydney</td>\n",
              "      <td>nan</td>\n",
              "    </tr>\n",
              "  </tbody>\n",
              "</table>\n",
              "</div>"
            ],
            "text/plain": [
              "              date                                  title review  score  \\\n",
              "2127  June 4, 2018  The packaging sucks very disappointed    NaN    1.0   \n",
              "\n",
              "      author cleaned_review  \n",
              "2127  Sydney            nan  "
            ]
          },
          "execution_count": 80,
          "metadata": {},
          "output_type": "execute_result"
        }
      ],
      "source": [
        "review[review['review'].isnull()]"
      ]
    },
    {
      "cell_type": "code",
      "execution_count": null,
      "metadata": {
        "id": "0Ipg4u5pltMY"
      },
      "outputs": [],
      "source": [
        "# remove null \n",
        "\n",
        "review.replace(' ',np.nan , inplace = True)\n",
        "review.dropna(axis = 0 , inplace = True, subset = ['review'])"
      ]
    },
    {
      "cell_type": "code",
      "execution_count": null,
      "metadata": {
        "id": "VfujEyHgltMY"
      },
      "outputs": [],
      "source": [
        "# 1~2: 0 (negative) / 3~5: 1 (positive) mapping\n",
        "\n",
        "df = review\n",
        "X = df['cleaned_review']\n",
        "y_dict = {1.0:0, 2.0:0, 3.0:1, 4.0:1, 5.0:1}\n",
        "y = df['score'].map(y_dict)"
      ]
    },
    {
      "cell_type": "code",
      "execution_count": null,
      "metadata": {
        "id": "kQ5n_t5bltMY"
      },
      "outputs": [],
      "source": [
        "# train, test split\n",
        "\n",
        "x_train, x_test, y_train, y_test = train_test_split(X, y, \n",
        "                                                stratify=y, \n",
        "                                                random_state=42, \n",
        "                                                test_size=0.2, shuffle=True)"
      ]
    },
    {
      "cell_type": "code",
      "execution_count": null,
      "metadata": {
        "id": "s5XsLf8JltMZ",
        "outputId": "8fe24133-d37a-4572-90f6-afffc4a05cdd"
      },
      "outputs": [
        {
          "name": "stdout",
          "output_type": "stream",
          "text": [
            "(4622,)\n",
            "(1156,)\n"
          ]
        }
      ],
      "source": [
        "print (x_train.shape)\n",
        "print (x_test.shape)"
      ]
    },
    {
      "cell_type": "markdown",
      "metadata": {
        "id": "JaeGsrE9ltMZ"
      },
      "source": [
        "## - Building Basic Models "
      ]
    },
    {
      "cell_type": "code",
      "execution_count": null,
      "metadata": {
        "id": "OoaVa2q4ltMa"
      },
      "outputs": [],
      "source": [
        "# model evaluation metrics visualization \n",
        "\n",
        "def model_Evaluate(model, x_test):\n",
        "    \n",
        "    # Predict values for Test dataset\n",
        "    y_pred = model.predict(x_test)\n",
        "\n",
        "    # Print the evaluation metrics for the dataset.\n",
        "    print(model.score(x_test, y_test))\n",
        "    print(classification_report(y_test, y_pred))\n",
        "    \n",
        "    # Compute and plot the Confusion matrix\n",
        "    cf_matrix = confusion_matrix(y_test, y_pred)\n",
        "\n",
        "    categories  = ['Negative','Positive']\n",
        "    group_names = ['True Neg','False Pos', 'False Neg','True Pos']\n",
        "    group_percentages = ['{0:.2%}'.format(value) for value in cf_matrix.flatten() / np.sum(cf_matrix)]\n",
        "\n",
        "    labels = [f'{v1}\\n{v2}' for v1, v2 in zip(group_names,group_percentages)]\n",
        "    labels = np.asarray(labels).reshape(2,2)\n",
        "\n",
        "    sns.heatmap(cf_matrix, annot = labels, cmap = 'Blues',fmt = '',\n",
        "                xticklabels = categories, yticklabels = categories)\n",
        "\n",
        "    plt.xlabel(\"Predicted values\", fontdict = {'size':14}, labelpad = 10)\n",
        "    plt.ylabel(\"Actual values\"   , fontdict = {'size':14}, labelpad = 10)\n",
        "    plt.title (\"Confusion Matrix\", fontdict = {'size':18}, pad = 20)\n",
        "    \n",
        "prediction = dict()"
      ]
    },
    {
      "cell_type": "code",
      "execution_count": null,
      "metadata": {
        "id": "LVXDyheKltMa"
      },
      "outputs": [],
      "source": [
        "# cross-validation function\n",
        "\n",
        "def validation(model, x_train):\n",
        "    skf = StratifiedKFold(n_splits=5, shuffle=True, random_state = 0)\n",
        "    score = cross_val_score(model, x_train, y_train, cv = skf)\n",
        "    score_mean = score.mean()\n",
        "    plt.show()\n",
        "\n",
        "    return score_mean  "
      ]
    },
    {
      "cell_type": "markdown",
      "metadata": {
        "id": "IDfFuSirltMa"
      },
      "source": [
        "### Embedding 1) CountVectorizer"
      ]
    },
    {
      "cell_type": "code",
      "execution_count": null,
      "metadata": {
        "id": "1CIe99raltMb"
      },
      "outputs": [],
      "source": [
        "ctv = CountVectorizer(analyzer='word',token_pattern=r'\\w{1,}',\n",
        "            ngram_range=(1, 2))\n",
        "\n",
        "# Fitting Count Vectorizer to both training and test sets (semi-supervised learning)\n",
        "ctv.fit(list(x_train) + list(x_test))\n",
        "xtrain_ctv =  ctv.transform(x_train) \n",
        "xtest_ctv = ctv.transform(x_test)"
      ]
    },
    {
      "cell_type": "markdown",
      "metadata": {
        "id": "mFSkkoaOltMb"
      },
      "source": [
        "### - Logistic Regression"
      ]
    },
    {
      "cell_type": "code",
      "execution_count": null,
      "metadata": {
        "id": "Qt7k0KsIltMb",
        "outputId": "7a83803b-0c74-482d-de54-ef694026fc54"
      },
      "outputs": [
        {
          "name": "stdout",
          "output_type": "stream",
          "text": [
            "0.9065743944636678\n",
            "              precision    recall  f1-score   support\n",
            "\n",
            "           0       0.84      0.49      0.62       179\n",
            "           1       0.91      0.98      0.95       977\n",
            "\n",
            "    accuracy                           0.91      1156\n",
            "   macro avg       0.88      0.73      0.78      1156\n",
            "weighted avg       0.90      0.91      0.90      1156\n",
            "\n"
          ]
        },
        {
          "data": {
            "image/png": "[encoded data removed]",
            "text/plain": [
              "<Figure size 432x288 with 2 Axes>"
            ]
          },
          "metadata": {
            "needs_background": "light"
          },
          "output_type": "display_data"
        }
      ],
      "source": [
        "# Fitting a simple Logistic Regression on Counts\n",
        "clf = LogisticRegression(C=1.0)\n",
        "clf.fit(xtrain_ctv, y_train)\n",
        "\n",
        "prediction['Logistic'] = clf.predict(xtest_ctv)\n",
        "validation(clf, xtrain_ctv)\n",
        "model_Evaluate(clf, xtest_ctv)"
      ]
    },
    {
      "cell_type": "markdown",
      "metadata": {
        "id": "o-cD_sySltMb"
      },
      "source": [
        "### Embedding 2) TfidVectorizer"
      ]
    },
    {
      "cell_type": "code",
      "execution_count": null,
      "metadata": {
        "id": "fCos9GDlltMc"
      },
      "outputs": [],
      "source": [
        "tfv = TfidfVectorizer(min_df=3,  max_features=None, \n",
        "            strip_accents='unicode', analyzer='word',\n",
        "            ngram_range=(1, 2), use_idf=1, smooth_idf=1, sublinear_tf=1)\n",
        "\n",
        "# Fitting TF-IDF to both training and test sets (semi-supervised learning)\n",
        "tfv.fit(list(x_train) + list(x_test))\n",
        "xtrain_tfv =  tfv.transform(x_train) \n",
        "xtest_tfv = tfv.transform(x_test)"
      ]
    },
    {
      "cell_type": "markdown",
      "metadata": {
        "id": "Vk9DbLqvltMc"
      },
      "source": [
        "### - Logistic Regression"
      ]
    },
    {
      "cell_type": "code",
      "execution_count": null,
      "metadata": {
        "id": "orX9a6GDltMc",
        "outputId": "38ada620-fa30-465d-b7fe-d38cba452eff"
      },
      "outputs": [
        {
          "name": "stdout",
          "output_type": "stream",
          "text": [
            "0.8814878892733564\n",
            "              precision    recall  f1-score   support\n",
            "\n",
            "           0       0.98      0.24      0.39       179\n",
            "           1       0.88      1.00      0.93       977\n",
            "\n",
            "    accuracy                           0.88      1156\n",
            "   macro avg       0.93      0.62      0.66      1156\n",
            "weighted avg       0.89      0.88      0.85      1156\n",
            "\n"
          ]
        },
        {
          "data": {
            "image/png": "[encoded data removed]",
            "text/plain": [
              "<Figure size 432x288 with 2 Axes>"
            ]
          },
          "metadata": {
            "needs_background": "light"
          },
          "output_type": "display_data"
        }
      ],
      "source": [
        "# Fitting a simple Logistic Regression on TFIDF\n",
        "clf = LogisticRegression(C=1.0)\n",
        "clf.fit(xtrain_tfv, y_train)\n",
        "\n",
        "prediction['Logistic_TFIDF'] = clf.predict(xtest_tfv)\n",
        "model_Evaluate(clf, xtest_tfv)"
      ]
    },
    {
      "cell_type": "markdown",
      "metadata": {
        "id": "ZtikEsBAltMc"
      },
      "source": [
        "### - Naive Bayes"
      ]
    },
    {
      "cell_type": "code",
      "execution_count": null,
      "metadata": {
        "id": "rzSa12IEltMc",
        "outputId": "5eeb2d71-7b8a-47c4-bf85-c6aca7ef0198"
      },
      "outputs": [
        {
          "name": "stdout",
          "output_type": "stream",
          "text": [
            "0.8788927335640139\n",
            "              precision    recall  f1-score   support\n",
            "\n",
            "           0       1.00      0.22      0.36       179\n",
            "           1       0.87      1.00      0.93       977\n",
            "\n",
            "    accuracy                           0.88      1156\n",
            "   macro avg       0.94      0.61      0.65      1156\n",
            "weighted avg       0.89      0.88      0.84      1156\n",
            "\n"
          ]
        },
        {
          "data": {
            "image/png": "[encoded data removed]",
            "text/plain": [
              "<Figure size 432x288 with 2 Axes>"
            ]
          },
          "metadata": {
            "needs_background": "light"
          },
          "output_type": "display_data"
        }
      ],
      "source": [
        "# Fitting a simple Naive Bayes on TFIDF\n",
        "clf = MultinomialNB()\n",
        "clf.fit(xtrain_tfv, y_train)\n",
        "\n",
        "prediction['Naive Bayes_TFIDF'] = clf.predict(xtest_tfv)\n",
        "model_Evaluate(clf, xtest_tfv)"
      ]
    },
    {
      "cell_type": "markdown",
      "metadata": {
        "id": "GTEdxFLYltMd"
      },
      "source": [
        "### - SVM"
      ]
    },
    {
      "cell_type": "code",
      "execution_count": null,
      "metadata": {
        "id": "fh1hZIhFltMd"
      },
      "outputs": [],
      "source": [
        "# Apply SVD, I chose 120 components. 120-200 components are good enough for SVM model.\n",
        "svd = decomposition.TruncatedSVD(n_components=120)\n",
        "svd.fit(xtrain_tfv)\n",
        "xtrain_svd = svd.transform(xtrain_tfv)\n",
        "xtest_svd = svd.transform(xtest_tfv)\n",
        "\n",
        "# Scale the data obtained from SVD. Renaming variable to reuse without scaling.\n",
        "scl = preprocessing.StandardScaler()\n",
        "scl.fit(xtrain_svd)\n",
        "xtrain_svd_scl = scl.transform(xtrain_svd)\n",
        "xtest_svd_scl = scl.transform(xtest_svd)"
      ]
    },
    {
      "cell_type": "code",
      "execution_count": null,
      "metadata": {
        "id": "lvGsE67EltMd",
        "outputId": "02cc6142-c2b4-4e78-ae11-287721001058"
      },
      "outputs": [
        {
          "name": "stdout",
          "output_type": "stream",
          "text": [
            "0.889273356401384\n",
            "              precision    recall  f1-score   support\n",
            "\n",
            "           0       0.86      0.34      0.49       179\n",
            "           1       0.89      0.99      0.94       977\n",
            "\n",
            "    accuracy                           0.89      1156\n",
            "   macro avg       0.88      0.67      0.71      1156\n",
            "weighted avg       0.89      0.89      0.87      1156\n",
            "\n"
          ]
        },
        {
          "data": {
            "image/png": "[encoded data removed]",
            "text/plain": [
              "<Figure size 432x288 with 2 Axes>"
            ]
          },
          "metadata": {
            "needs_background": "light"
          },
          "output_type": "display_data"
        }
      ],
      "source": [
        "# Fitting a simple SVM\n",
        "clf = SVC(C=1.0, probability=True) # since we need probabilities\n",
        "clf.fit(xtrain_svd_scl, y_train)\n",
        "\n",
        "prediction['SVM_TFIDF'] = clf.predict(xtest_svd_scl)\n",
        "model_Evaluate(clf, xtest_svd_scl)"
      ]
    },
    {
      "cell_type": "markdown",
      "metadata": {
        "id": "lQ6MS7eqltMd"
      },
      "source": [
        "### - xgboost"
      ]
    },
    {
      "cell_type": "code",
      "execution_count": null,
      "metadata": {
        "id": "XJ5MVAc9ltMe",
        "outputId": "7ac92adf-fdbf-4c61-e379-45db721d4fa1"
      },
      "outputs": [
        {
          "name": "stdout",
          "output_type": "stream",
          "text": [
            "0.9057093425605537\n",
            "              precision    recall  f1-score   support\n",
            "\n",
            "           0       0.87      0.46      0.60       179\n",
            "           1       0.91      0.99      0.95       977\n",
            "\n",
            "    accuracy                           0.91      1156\n",
            "   macro avg       0.89      0.72      0.77      1156\n",
            "weighted avg       0.90      0.91      0.89      1156\n",
            "\n"
          ]
        },
        {
          "data": {
            "image/png": "[encoded data removed]",
            "text/plain": [
              "<Figure size 432x288 with 2 Axes>"
            ]
          },
          "metadata": {
            "needs_background": "light"
          },
          "output_type": "display_data"
        }
      ],
      "source": [
        "# Fitting a simple xgboost on Counts\n",
        "clf = xgb.XGBClassifier(max_depth=7, n_estimators=200, colsample_bytree=0.8, \n",
        "                        subsample=0.8, nthread=10, learning_rate=0.1)\n",
        "clf.fit(xtrain_ctv.tocsc(), y_train)\n",
        "\n",
        "prediction['XGboost'] = clf.predict(xtest_ctv.tocsc())\n",
        "model_Evaluate(clf, xtest_ctv.tocsc())"
      ]
    },
    {
      "cell_type": "code",
      "execution_count": null,
      "metadata": {
        "id": "3-iP5Gm-ltMe",
        "outputId": "1badd160-1643-42fa-e9b8-b5c7db28f34e"
      },
      "outputs": [
        {
          "name": "stdout",
          "output_type": "stream",
          "text": [
            "0.9005190311418685\n",
            "              precision    recall  f1-score   support\n",
            "\n",
            "           0       0.85      0.44      0.58       179\n",
            "           1       0.91      0.99      0.94       977\n",
            "\n",
            "    accuracy                           0.90      1156\n",
            "   macro avg       0.88      0.71      0.76      1156\n",
            "weighted avg       0.90      0.90      0.89      1156\n",
            "\n"
          ]
        },
        {
          "data": {
            "image/png": "[encoded data removed]",
            "text/plain": [
              "<Figure size 432x288 with 2 Axes>"
            ]
          },
          "metadata": {
            "needs_background": "light"
          },
          "output_type": "display_data"
        }
      ],
      "source": [
        "# Fitting a simple xgboost on tf-idf svd features\n",
        "clf = xgb.XGBClassifier(max_depth=7, n_estimators=200, colsample_bytree=0.8, \n",
        "                        subsample=0.8, nthread=10, learning_rate=0.1)\n",
        "clf.fit(xtrain_tfv.tocsc(), y_train)\n",
        "\n",
        "prediction['XGboost_TFIDF'] = clf.predict(xtest_tfv.tocsc())\n",
        "model_Evaluate(clf, xtest_tfv.tocsc())"
      ]
    },
    {
      "cell_type": "code",
      "execution_count": null,
      "metadata": {
        "id": "eyDh75uFltMe",
        "outputId": "b4302061-7f63-4719-cc5b-b044c2857c1a"
      },
      "outputs": [
        {
          "name": "stdout",
          "output_type": "stream",
          "text": [
            "0.8918685121107266\n",
            "              precision    recall  f1-score   support\n",
            "\n",
            "           0       0.79      0.41      0.54       179\n",
            "           1       0.90      0.98      0.94       977\n",
            "\n",
            "    accuracy                           0.89      1156\n",
            "   macro avg       0.84      0.70      0.74      1156\n",
            "weighted avg       0.88      0.89      0.88      1156\n",
            "\n"
          ]
        },
        {
          "data": {
            "image/png": "[encoded data removed]",
            "text/plain": [
              "<Figure size 432x288 with 2 Axes>"
            ]
          },
          "metadata": {
            "needs_background": "light"
          },
          "output_type": "display_data"
        }
      ],
      "source": [
        "# Fitting a simple xgboost on tf-idf svd features\n",
        "clf = xgb.XGBClassifier(max_depth=7, n_estimators=200, colsample_bytree=0.8, \n",
        "                        subsample=0.8, nthread=10, learning_rate=0.1)\n",
        "clf.fit(xtrain_svd, y_train)\n",
        "\n",
        "prediction['XGboost_TFIDF_SVD'] = clf.predict(xtest_svd)\n",
        "model_Evaluate(clf, xtest_svd)"
      ]
    },
    {
      "cell_type": "markdown",
      "metadata": {
        "id": "tDT5ceKDltMf"
      },
      "source": [
        "### Embedding 3) glove"
      ]
    },
    {
      "cell_type": "code",
      "execution_count": null,
      "metadata": {
        "id": "9Eq1oFjRltMf",
        "outputId": "81043777-8675-4a84-d43b-19ae2fb27a3c"
      },
      "outputs": [
        {
          "name": "stderr",
          "output_type": "stream",
          "text": [
            "\n",
            "\n",
            "\n",
            "\n",
            "\n",
            "\n",
            "0it [00:00, ?it/s]\u001b[A\u001b[A\u001b[A\u001b[A\u001b[A\u001b[A\n",
            "\n",
            "\n",
            "\n",
            "\n",
            "\n",
            "493it [00:00, 4929.78it/s]\u001b[A\u001b[A\u001b[A\u001b[A\u001b[A\u001b[A\n",
            "\n",
            "\n",
            "\n",
            "\n",
            "\n",
            "1059it [00:00, 5128.15it/s]\u001b[A\u001b[A\u001b[A\u001b[A\u001b[A\u001b[A\n",
            "\n",
            "\n",
            "\n",
            "\n",
            "\n",
            "1703it [00:00, 5461.82it/s]\u001b[A\u001b[A\u001b[A\u001b[A\u001b[A\u001b[A\n",
            "\n",
            "\n",
            "\n",
            "\n",
            "\n",
            "2372it [00:00, 5780.07it/s]\u001b[A\u001b[A\u001b[A\u001b[A\u001b[A\u001b[A\n",
            "\n",
            "\n",
            "\n",
            "\n",
            "\n",
            "3112it [00:00, 6186.22it/s]\u001b[A\u001b[A\u001b[A\u001b[A\u001b[A\u001b[A\n",
            "\n",
            "\n",
            "\n",
            "\n",
            "\n",
            "3763it [00:00, 6279.80it/s]\u001b[A\u001b[A\u001b[A\u001b[A\u001b[A\u001b[A\n",
            "\n",
            "\n",
            "\n",
            "\n",
            "\n",
            "4464it [00:00, 6482.20it/s]\u001b[A\u001b[A\u001b[A\u001b[A\u001b[A\u001b[A\n",
            "\n",
            "\n",
            "\n",
            "\n",
            "\n",
            "5139it [00:00, 6560.17it/s]\u001b[A\u001b[A\u001b[A\u001b[A\u001b[A\u001b[A\n",
            "\n",
            "\n",
            "\n",
            "\n",
            "\n",
            "5894it [00:00, 6828.61it/s]\u001b[A\u001b[A\u001b[A\u001b[A\u001b[A\u001b[A\n",
            "\n",
            "\n",
            "\n",
            "\n",
            "\n",
            "6758it [00:01, 7286.78it/s]\u001b[A\u001b[A\u001b[A\u001b[A\u001b[A\u001b[A\n",
            "\n",
            "\n",
            "\n",
            "\n",
            "\n",
            "7610it [00:01, 7617.43it/s]\u001b[A\u001b[A\u001b[A\u001b[A\u001b[A\u001b[A\n",
            "\n",
            "\n",
            "\n",
            "\n",
            "\n",
            "8494it [00:01, 7946.95it/s]\u001b[A\u001b[A\u001b[A\u001b[A\u001b[A\u001b[A\n",
            "\n",
            "\n",
            "\n",
            "\n",
            "\n",
            "9296it [00:01, 7584.20it/s]\u001b[A\u001b[A\u001b[A\u001b[A\u001b[A\u001b[A\n",
            "\n",
            "\n",
            "\n",
            "\n",
            "\n",
            "10063it [00:01, 7587.04it/s]\u001b[A\u001b[A\u001b[A\u001b[A\u001b[A\u001b[A\n",
            "\n",
            "\n",
            "\n",
            "\n",
            "\n",
            "10974it [00:01, 7987.45it/s]\u001b[A\u001b[A\u001b[A\u001b[A\u001b[A\u001b[A\n",
            "\n",
            "\n",
            "\n",
            "\n",
            "\n",
            "11900it [00:01, 8330.76it/s]\u001b[A\u001b[A\u001b[A\u001b[A\u001b[A\u001b[A\n",
            "\n",
            "\n",
            "\n",
            "\n",
            "\n",
            "12869it [00:01, 8696.59it/s]\u001b[A\u001b[A\u001b[A\u001b[A\u001b[A\u001b[A\n",
            "\n",
            "\n",
            "\n",
            "\n",
            "\n",
            "13751it [00:01, 8733.03it/s]\u001b[A\u001b[A\u001b[A\u001b[A\u001b[A\u001b[A\n",
            "\n",
            "\n",
            "\n",
            "\n",
            "\n",
            "14657it [00:01, 8828.43it/s]\u001b[A\u001b[A\u001b[A\u001b[A\u001b[A\u001b[A\n",
            "\n",
            "\n",
            "\n",
            "\n",
            "\n",
            "15546it [00:02, 8324.63it/s]\u001b[A\u001b[A\u001b[A\u001b[A\u001b[A\u001b[A\n",
            "\n",
            "\n",
            "\n",
            "\n",
            "\n",
            "16389it [00:02, 8137.98it/s]\u001b[A\u001b[A\u001b[A\u001b[A\u001b[A\u001b[A\n",
            "\n",
            "\n",
            "\n",
            "\n",
            "\n",
            "17211it [00:02, 8162.25it/s]\u001b[A\u001b[A\u001b[A\u001b[A\u001b[A\u001b[A\n",
            "\n",
            "\n",
            "\n",
            "\n",
            "\n",
            "18033it [00:02, 8130.76it/s]\u001b[A\u001b[A\u001b[A\u001b[A\u001b[A\u001b[A\n",
            "\n",
            "\n",
            "\n",
            "\n",
            "\n",
            "18864it [00:02, 8183.53it/s]\u001b[A\u001b[A\u001b[A\u001b[A\u001b[A\u001b[A\n",
            "\n",
            "\n",
            "\n",
            "\n",
            "\n",
            "19686it [00:02, 8194.26it/s]\u001b[A\u001b[A\u001b[A\u001b[A\u001b[A\u001b[A\n",
            "\n",
            "\n",
            "\n",
            "\n",
            "\n",
            "20508it [00:02, 8009.98it/s]\u001b[A\u001b[A\u001b[A\u001b[A\u001b[A\u001b[A\n",
            "\n",
            "\n",
            "\n",
            "\n",
            "\n",
            "21324it [00:02, 8054.24it/s]\u001b[A\u001b[A\u001b[A\u001b[A\u001b[A\u001b[A\n",
            "\n",
            "\n",
            "\n",
            "\n",
            "\n",
            "22219it [00:02, 8303.38it/s]\u001b[A\u001b[A\u001b[A\u001b[A\u001b[A\u001b[A\n",
            "\n",
            "\n",
            "\n",
            "\n",
            "\n",
            "23053it [00:02, 8119.84it/s]\u001b[A\u001b[A\u001b[A\u001b[A\u001b[A\u001b[A\n",
            "\n",
            "\n",
            "\n",
            "\n",
            "\n",
            "24616it [00:03, 7784.37it/s]\u001b[A\u001b[A\u001b[A\u001b[A\u001b[A\u001b[A"
          ]
        },
        {
          "name": "stdout",
          "output_type": "stream",
          "text": [
            "Found 24616 word vectors.\n"
          ]
        },
        {
          "name": "stderr",
          "output_type": "stream",
          "text": [
            "\n"
          ]
        }
      ],
      "source": [
        "embeddings_index = {}\n",
        "f = open('./data/glove.840B.300d.txt', encoding='utf-8')\n",
        "\n",
        "for line in tqdm(f):\n",
        "    values = line.split()\n",
        "    word = values[0]\n",
        "    coefs = np.asarray(values[1:], dtype='float32')\n",
        "    embeddings_index[word] = coefs\n",
        "f.close()\n",
        "\n",
        "print('Found %s word vectors.' % len(embeddings_index))"
      ]
    },
    {
      "cell_type": "code",
      "execution_count": null,
      "metadata": {
        "id": "jPs4CUeLltMf"
      },
      "outputs": [],
      "source": [
        "def sent2vec(s):\n",
        "    words = str(s).lower().encode().decode('utf-8')\n",
        "    words = word_tokenize(words)\n",
        "    words = [w for w in words if not w in stop_words]\n",
        "    words = [w for w in words if w.isalpha()]\n",
        "    M = []\n",
        "    for w in words:\n",
        "        try:\n",
        "            M.append(embeddings_index[w])\n",
        "        except:\n",
        "            continue\n",
        "    M = np.array(M)\n",
        "    v = M.sum(axis=0)\n",
        "    if type(v) != np.ndarray:\n",
        "        return np.zeros(300)\n",
        "    return v / np.sqrt((v ** 2).sum())"
      ]
    },
    {
      "cell_type": "code",
      "execution_count": null,
      "metadata": {
        "id": "KGWNiWfMltMf",
        "outputId": "910deddf-2617-4a80-e4dc-274a0aaee922"
      },
      "outputs": [
        {
          "name": "stderr",
          "output_type": "stream",
          "text": [
            "\n",
            "\n",
            "\n",
            "\n",
            "\n",
            "\n",
            "  0%|                                                                                         | 0/4622 [00:00<?, ?it/s]\u001b[A\u001b[A\u001b[A\u001b[A\u001b[A\u001b[A\n",
            "\n",
            "\n",
            "\n",
            "\n",
            "\n",
            "  4%|███▏                                                                         | 193/4622 [00:00<00:02, 1929.85it/s]\u001b[A\u001b[A\u001b[A\u001b[A\u001b[A\u001b[A\n",
            "\n",
            "\n",
            "\n",
            "\n",
            "\n",
            " 10%|████████                                                                     | 485/4622 [00:00<00:01, 2148.38it/s]\u001b[A\u001b[A\u001b[A\u001b[A\u001b[A\u001b[A\n",
            "\n",
            "\n",
            "\n",
            "\n",
            "\n",
            " 17%|████████████▉                                                                | 779/4622 [00:00<00:01, 2337.13it/s]\u001b[A\u001b[A\u001b[A\u001b[A\u001b[A\u001b[A\n",
            "\n",
            "\n",
            "\n",
            "\n",
            "\n",
            " 24%|█████████████████▉                                                          | 1090/4622 [00:00<00:01, 2525.35it/s]\u001b[A\u001b[A\u001b[A\u001b[A\u001b[A\u001b[A\n",
            "\n",
            "\n",
            "\n",
            "\n",
            "\n",
            " 30%|██████████████████████▋                                                     | 1382/4622 [00:00<00:01, 2632.02it/s]\u001b[A\u001b[A\u001b[A\u001b[A\u001b[A\u001b[A\n",
            "\n",
            "\n",
            "\n",
            "\n",
            "\n",
            " 37%|████████████████████████████▎                                               | 1723/4622 [00:00<00:01, 2825.35it/s]\u001b[A\u001b[A\u001b[A\u001b[A\u001b[A\u001b[A\n",
            "\n",
            "\n",
            "\n",
            "\n",
            "\n",
            " 45%|█████████████████████████████████▉                                          | 2063/4622 [00:00<00:00, 2976.21it/s]\u001b[A\u001b[A\u001b[A\u001b[A\u001b[A\u001b[A\n",
            "\n",
            "\n",
            "\n",
            "\n",
            "\n",
            " 51%|██████████████████████████████████████▉                                     | 2368/4622 [00:00<00:00, 2997.89it/s]\u001b[A\u001b[A\u001b[A\u001b[A\u001b[A\u001b[A\n",
            "\n",
            "\n",
            "\n",
            "\n",
            "\n",
            " 58%|███████████████████████████████████████████▊                                | 2664/4622 [00:00<00:00, 2977.36it/s]\u001b[A\u001b[A\u001b[A\u001b[A\u001b[A\u001b[A\n",
            "\n",
            "\n",
            "\n",
            "\n",
            "\n",
            " 64%|████████████████████████████████████████████████▊                           | 2966/4622 [00:01<00:00, 2989.96it/s]\u001b[A\u001b[A\u001b[A\u001b[A\u001b[A\u001b[A\n",
            "\n",
            "\n",
            "\n",
            "\n",
            "\n",
            " 71%|█████████████████████████████████████████████████████▉                      | 3284/4622 [00:01<00:00, 3044.48it/s]\u001b[A\u001b[A\u001b[A\u001b[A\u001b[A\u001b[A\n",
            "\n",
            "\n",
            "\n",
            "\n",
            "\n",
            " 78%|███████████████████████████████████████████████████████████▏                | 3598/4622 [00:01<00:00, 3072.42it/s]\u001b[A\u001b[A\u001b[A\u001b[A\u001b[A\u001b[A\n",
            "\n",
            "\n",
            "\n",
            "\n",
            "\n",
            " 85%|████████████████████████████████████████████████████████████████▍           | 3920/4622 [00:01<00:00, 3115.20it/s]\u001b[A\u001b[A\u001b[A\u001b[A\u001b[A\u001b[A\n",
            "\n",
            "\n",
            "\n",
            "\n",
            "\n",
            " 92%|█████████████████████████████████████████████████████████████████████▌      | 4232/4622 [00:01<00:00, 2973.98it/s]\u001b[A\u001b[A\u001b[A\u001b[A\u001b[A\u001b[A\n",
            "\n",
            "\n",
            "\n",
            "\n",
            "\n",
            "100%|████████████████████████████████████████████████████████████████████████████| 4622/4622 [00:01<00:00, 2966.41it/s]\u001b[A\u001b[A\u001b[A\u001b[A\u001b[A\u001b[A\n",
            "\n",
            "\n",
            "\n",
            "\n",
            "\n",
            "\n",
            "  0%|                                                                                         | 0/1156 [00:00<?, ?it/s]\u001b[A\u001b[A\u001b[A\u001b[A\u001b[A\u001b[A\n",
            "\n",
            "\n",
            "\n",
            "\n",
            "\n",
            " 26%|████████████████████▍                                                        | 306/1156 [00:00<00:00, 3059.75it/s]\u001b[A\u001b[A\u001b[A\u001b[A\u001b[A\u001b[A\n",
            "\n",
            "\n",
            "\n",
            "\n",
            "\n",
            " 58%|████████████████████████████████████████████▊                                | 672/1156 [00:00<00:00, 3218.02it/s]\u001b[A\u001b[A\u001b[A\u001b[A\u001b[A\u001b[A\n",
            "\n",
            "\n",
            "\n",
            "\n",
            "\n",
            "100%|████████████████████████████████████████████████████████████████████████████| 1156/1156 [00:00<00:00, 3409.77it/s]\u001b[A\u001b[A\u001b[A\u001b[A\u001b[A\u001b[A\n"
          ]
        }
      ],
      "source": [
        "xtrain_glove = [sent2vec(x) for x in tqdm(x_train)]\n",
        "xvalid_glove = [sent2vec(x) for x in tqdm(x_test)]"
      ]
    },
    {
      "cell_type": "code",
      "execution_count": null,
      "metadata": {
        "id": "ROw9KH7TltMg"
      },
      "outputs": [],
      "source": [
        "xtrain_glove = np.array(xtrain_glove)\n",
        "xvalid_glove = np.array(xvalid_glove)"
      ]
    },
    {
      "cell_type": "code",
      "execution_count": null,
      "metadata": {
        "id": "JyvLoFEcltMg",
        "outputId": "9e4f71ce-1bd4-496d-b966-1270944aa96b"
      },
      "outputs": [
        {
          "name": "stdout",
          "output_type": "stream",
          "text": [
            "[21:24:09] WARNING: C:\\Users\\Administrator\\workspace\\xgboost-win64_release_1.2.0\\src\\learner.cc:516: \n",
            "Parameters: { silent } might not be used.\n",
            "\n",
            "  This may not be accurate due to some parameters are only used in language bindings but\n",
            "  passed down to XGBoost core.  Or some parameters are not used but slip through this\n",
            "  verification. Please open an issue if you find above cases.\n",
            "\n",
            "\n",
            "0.8901384083044983\n",
            "              precision    recall  f1-score   support\n",
            "\n",
            "           0       0.84      0.36      0.50       179\n",
            "           1       0.89      0.99      0.94       977\n",
            "\n",
            "    accuracy                           0.89      1156\n",
            "   macro avg       0.87      0.67      0.72      1156\n",
            "weighted avg       0.89      0.89      0.87      1156\n",
            "\n"
          ]
        },
        {
          "data": {
            "image/png": "[encoded data removed]",
            "text/plain": [
              "<Figure size 432x288 with 2 Axes>"
            ]
          },
          "metadata": {
            "needs_background": "light"
          },
          "output_type": "display_data"
        }
      ],
      "source": [
        "# Fitting a simple xgboost on glove features\n",
        "clf = xgb.XGBClassifier(max_depth=7, n_estimators=200, colsample_bytree=0.8, \n",
        "                        subsample=0.8, nthread=10, learning_rate=0.1, silent=False)\n",
        "clf.fit(xtrain_glove, y_train)\n",
        "\n",
        "prediction['XGboost_glove'] = clf.predict(xvalid_glove)\n",
        "model_Evaluate(clf, xvalid_glove)"
      ]
    },
    {
      "cell_type": "markdown",
      "metadata": {
        "id": "q2-BlGX2ltMg"
      },
      "source": [
        "## - Deep Learning"
      ]
    },
    {
      "cell_type": "markdown",
      "metadata": {
        "id": "5KVa2jhDltMg"
      },
      "source": [
        "### - ANN"
      ]
    },
    {
      "cell_type": "code",
      "execution_count": null,
      "metadata": {
        "id": "RIjzXfNUltMg"
      },
      "outputs": [],
      "source": [
        "# scale the data before any neural net:\n",
        "scl = preprocessing.StandardScaler()\n",
        "xtrain_glove_scl = scl.fit_transform(xtrain_glove)\n",
        "xvalid_glove_scl = scl.transform(xvalid_glove)"
      ]
    },
    {
      "cell_type": "code",
      "execution_count": null,
      "metadata": {
        "id": "ksNmLyszltMg"
      },
      "outputs": [],
      "source": [
        "# we need to binarize the labels for the neural net\n",
        "ytrain_enc = np_utils.to_categorical(y_train)\n",
        "yvalid_enc = np_utils.to_categorical(y_test)"
      ]
    },
    {
      "cell_type": "code",
      "execution_count": null,
      "metadata": {
        "id": "zUT_Y4ndltMh"
      },
      "outputs": [],
      "source": [
        "# create a simple 3 layer sequential neural net\n",
        "model = Sequential()\n",
        "\n",
        "model.add(Dense(300, input_dim=300, activation='relu'))\n",
        "model.add(Dropout(0.2))\n",
        "model.add(BatchNormalization())\n",
        "\n",
        "model.add(Dense(300, activation='relu'))\n",
        "model.add(Dropout(0.3))\n",
        "model.add(BatchNormalization())\n",
        "\n",
        "model.add(Dense(2))\n",
        "model.add(Activation('sigmoid'))\n",
        "\n",
        "# compile the model\n",
        "model.compile(loss='binary_crossentropy', optimizer='adam')"
      ]
    },
    {
      "cell_type": "code",
      "execution_count": null,
      "metadata": {
        "id": "rorrCQUGltMh",
        "outputId": "5601d04b-b5f1-47c6-d9cb-2a2336930bc0"
      },
      "outputs": [
        {
          "name": "stdout",
          "output_type": "stream",
          "text": [
            "Epoch 1/5\n",
            "73/73 [==============================] - 0s 6ms/step - loss: 0.5990 - val_loss: 0.4245\n",
            "Epoch 2/5\n",
            "73/73 [==============================] - 0s 3ms/step - loss: 0.3773 - val_loss: 0.3136\n",
            "Epoch 3/5\n",
            "73/73 [==============================] - 0s 3ms/step - loss: 0.2927 - val_loss: 0.3036\n",
            "Epoch 4/5\n",
            "73/73 [==============================] - 0s 3ms/step - loss: 0.2600 - val_loss: 0.3082\n",
            "Epoch 5/5\n",
            "73/73 [==============================] - 0s 3ms/step - loss: 0.2305 - val_loss: 0.2971\n"
          ]
        },
        {
          "data": {
            "text/plain": [
              "<tensorflow.python.keras.callbacks.History at 0x206b126f148>"
            ]
          },
          "execution_count": 105,
          "metadata": {},
          "output_type": "execute_result"
        }
      ],
      "source": [
        "model.fit(xtrain_glove_scl, y=ytrain_enc, batch_size=64, \n",
        "          epochs=5, verbose=1, \n",
        "          validation_data=(xvalid_glove_scl, yvalid_enc))"
      ]
    },
    {
      "cell_type": "code",
      "execution_count": null,
      "metadata": {
        "id": "zQ1MwytIltMh",
        "outputId": "cf55363c-5066-4ab1-afa1-1000c1104448"
      },
      "outputs": [
        {
          "name": "stdout",
          "output_type": "stream",
          "text": [
            "WARNING:tensorflow:From <ipython-input-106-48c6ae2e5baa>:1: Sequential.predict_classes (from tensorflow.python.keras.engine.sequential) is deprecated and will be removed after 2021-01-01.\n",
            "Instructions for updating:\n",
            "Please use instead:* `np.argmax(model.predict(x), axis=-1)`,   if your model does multi-class classification   (e.g. if it uses a `softmax` last-layer activation).* `(model.predict(x) > 0.5).astype(\"int32\")`,   if your model does binary classification   (e.g. if it uses a `sigmoid` last-layer activation).\n",
            "              precision    recall  f1-score   support\n",
            "\n",
            "           0       0.73      0.43      0.54       179\n",
            "           1       0.90      0.97      0.94       977\n",
            "\n",
            "    accuracy                           0.89      1156\n",
            "   macro avg       0.82      0.70      0.74      1156\n",
            "weighted avg       0.88      0.89      0.87      1156\n",
            "\n"
          ]
        },
        {
          "data": {
            "text/plain": [
              "Text(0.5, 1, 'Confusion Matrix')"
            ]
          },
          "execution_count": 106,
          "metadata": {},
          "output_type": "execute_result"
        },
        {
          "data": {
            "image/png": "[encoded data removed]",
            "text/plain": [
              "<Figure size 432x288 with 2 Axes>"
            ]
          },
          "metadata": {
            "needs_background": "light"
          },
          "output_type": "display_data"
        }
      ],
      "source": [
        "prediction['ANN_glove'] = model.predict_classes(xvalid_glove_scl)\n",
        "\n",
        "y_pred = model.predict(xvalid_glove_scl)\n",
        "\n",
        "print(classification_report(yvalid_enc.argmax(axis=1), y_pred.argmax(axis=1)))\n",
        "\n",
        "cf_matrix = confusion_matrix(yvalid_enc.argmax(axis=1), y_pred.argmax(axis=1))\n",
        "\n",
        "categories  = ['Negative','Positive']\n",
        "group_names = ['True Neg','False Pos', 'False Neg','True Pos']\n",
        "group_percentages = ['{0:.2%}'.format(value) for value in cf_matrix.flatten() / np.sum(cf_matrix)]\n",
        "\n",
        "labels = [f'{v1}\\n{v2}' for v1, v2 in zip(group_names,group_percentages)]\n",
        "labels = np.asarray(labels).reshape(2,2)\n",
        "\n",
        "sns.heatmap(cf_matrix, annot = labels, cmap = 'Blues',fmt = '',\n",
        "            xticklabels = categories, yticklabels = categories)\n",
        "\n",
        "plt.xlabel(\"Predicted values\", fontdict = {'size':14}, labelpad = 10)\n",
        "plt.ylabel(\"Actual values\"   , fontdict = {'size':14}, labelpad = 10)\n",
        "plt.title (\"Confusion Matrix\", fontdict = {'size':18}, pad = 20)"
      ]
    },
    {
      "cell_type": "markdown",
      "metadata": {
        "id": "lw-wbRxrltMh"
      },
      "source": [
        "### - LSTM"
      ]
    },
    {
      "cell_type": "code",
      "execution_count": null,
      "metadata": {
        "id": "4x315xNhltMh"
      },
      "outputs": [],
      "source": [
        "# using keras tokenizer here\n",
        "token = text.Tokenizer(num_words=None)\n",
        "max_len = 5\n",
        "\n",
        "token.fit_on_texts(list(x_train) + list(x_test))\n",
        "xtrain_seq = token.texts_to_sequences(x_train)\n",
        "xvalid_seq = token.texts_to_sequences(x_test)\n",
        "\n",
        "# zero pad the sequences\n",
        "xtrain_pad = sequence.pad_sequences(xtrain_seq, maxlen=max_len)\n",
        "xvalid_pad = sequence.pad_sequences(xvalid_seq, maxlen=max_len)\n",
        "\n",
        "word_index = token.word_index"
      ]
    },
    {
      "cell_type": "code",
      "execution_count": null,
      "metadata": {
        "id": "ouZHzc9wltMi",
        "outputId": "0686821d-f2d0-4afa-cfea-98291a402563"
      },
      "outputs": [
        {
          "name": "stderr",
          "output_type": "stream",
          "text": [
            "\n",
            "\n",
            "\n",
            "\n",
            "\n",
            "\n",
            "100%|██████████████████████████████████████████████████████████████████████████| 6163/6163 [00:00<00:00, 186760.32it/s]\u001b[A\u001b[A\u001b[A\u001b[A\u001b[A\u001b[A\n"
          ]
        }
      ],
      "source": [
        "# create an embedding matrix for the words we have in the dataset\n",
        "embedding_matrix = np.zeros((len(word_index) + 1, 300))\n",
        "for word, i in tqdm(word_index.items()):\n",
        "    embedding_vector = embeddings_index.get(word)\n",
        "    if embedding_vector is not None:\n",
        "        embedding_matrix[i] = embedding_vector"
      ]
    },
    {
      "cell_type": "code",
      "execution_count": null,
      "metadata": {
        "id": "PTGwMYxDltMi"
      },
      "outputs": [],
      "source": [
        "# A simple LSTM with glove embeddings and two dense layers\n",
        "model = Sequential()\n",
        "model.add(Embedding(len(word_index) + 1,\n",
        "                     300,\n",
        "                     weights=[embedding_matrix],\n",
        "                     input_length=max_len,\n",
        "                     trainable=False))\n",
        "model.add(SpatialDropout1D(0.3))\n",
        "model.add(LSTM(100, dropout=0.3, recurrent_dropout=0.3))\n",
        "\n",
        "model.add(Dense(1024, activation='relu'))\n",
        "model.add(Dropout(0.8))\n",
        "\n",
        "model.add(Dense(1024, activation='relu'))\n",
        "model.add(Dropout(0.8))\n",
        "\n",
        "model.add(Dense(2))\n",
        "model.add(Activation('sigmoid'))\n",
        "model.compile(loss='binary_crossentropy', optimizer='adam')"
      ]
    },
    {
      "cell_type": "code",
      "execution_count": null,
      "metadata": {
        "id": "RGrDjHhQltMi",
        "outputId": "bc4c8c39-213b-445a-ca88-799c190d60aa"
      },
      "outputs": [
        {
          "name": "stdout",
          "output_type": "stream",
          "text": [
            "Epoch 1/100\n",
            "10/10 [==============================] - 1s 133ms/step - loss: 0.5213 - val_loss: 0.4270\n",
            "Epoch 2/100\n",
            "10/10 [==============================] - 1s 83ms/step - loss: 0.4418 - val_loss: 0.4241\n",
            "Epoch 3/100\n",
            "10/10 [==============================] - 1s 83ms/step - loss: 0.4184 - val_loss: 0.3985\n",
            "Epoch 4/100\n",
            "10/10 [==============================] - 1s 85ms/step - loss: 0.4014 - val_loss: 0.3952\n",
            "Epoch 5/100\n",
            "10/10 [==============================] - 1s 82ms/step - loss: 0.3893 - val_loss: 0.3832\n",
            "Epoch 6/100\n",
            "10/10 [==============================] - 1s 81ms/step - loss: 0.3821 - val_loss: 0.3726\n",
            "Epoch 7/100\n",
            "10/10 [==============================] - 1s 82ms/step - loss: 0.3746 - val_loss: 0.3682\n",
            "Epoch 8/100\n",
            "10/10 [==============================] - 1s 83ms/step - loss: 0.3737 - val_loss: 0.3708\n",
            "Epoch 9/100\n",
            "10/10 [==============================] - 1s 80ms/step - loss: 0.3701 - val_loss: 0.3670\n",
            "Epoch 10/100\n",
            "10/10 [==============================] - 1s 82ms/step - loss: 0.3619 - val_loss: 0.3599\n",
            "Epoch 11/100\n",
            "10/10 [==============================] - 1s 82ms/step - loss: 0.3586 - val_loss: 0.3617\n",
            "Epoch 12/100\n",
            "10/10 [==============================] - 1s 82ms/step - loss: 0.3615 - val_loss: 0.3556\n",
            "Epoch 13/100\n",
            "10/10 [==============================] - 1s 82ms/step - loss: 0.3498 - val_loss: 0.3490\n",
            "Epoch 14/100\n",
            "10/10 [==============================] - 1s 85ms/step - loss: 0.3543 - val_loss: 0.3467\n",
            "Epoch 15/100\n",
            "10/10 [==============================] - 1s 83ms/step - loss: 0.3519 - val_loss: 0.3478\n",
            "Epoch 16/100\n",
            "10/10 [==============================] - 1s 85ms/step - loss: 0.3486 - val_loss: 0.3460\n",
            "Epoch 17/100\n",
            "10/10 [==============================] - 1s 85ms/step - loss: 0.3459 - val_loss: 0.3481\n",
            "Epoch 18/100\n",
            "10/10 [==============================] - 1s 82ms/step - loss: 0.3500 - val_loss: 0.3473\n",
            "Epoch 19/100\n",
            "10/10 [==============================] - 1s 81ms/step - loss: 0.3453 - val_loss: 0.3457\n",
            "Epoch 20/100\n",
            "10/10 [==============================] - 1s 81ms/step - loss: 0.3425 - val_loss: 0.3407\n",
            "Epoch 21/100\n",
            "10/10 [==============================] - 1s 83ms/step - loss: 0.3398 - val_loss: 0.3415\n",
            "Epoch 22/100\n",
            "10/10 [==============================] - 1s 82ms/step - loss: 0.3377 - val_loss: 0.3382\n",
            "Epoch 23/100\n",
            "10/10 [==============================] - 1s 84ms/step - loss: 0.3412 - val_loss: 0.3423\n",
            "Epoch 24/100\n",
            "10/10 [==============================] - 1s 84ms/step - loss: 0.3362 - val_loss: 0.3421\n",
            "Epoch 25/100\n",
            "10/10 [==============================] - 1s 88ms/step - loss: 0.3407 - val_loss: 0.3452\n",
            "Epoch 26/100\n",
            "10/10 [==============================] - 1s 84ms/step - loss: 0.3274 - val_loss: 0.3437\n",
            "Epoch 27/100\n",
            "10/10 [==============================] - 1s 83ms/step - loss: 0.3267 - val_loss: 0.3366\n",
            "Epoch 28/100\n",
            "10/10 [==============================] - 1s 89ms/step - loss: 0.3250 - val_loss: 0.3314\n",
            "Epoch 29/100\n",
            "10/10 [==============================] - 1s 92ms/step - loss: 0.3206 - val_loss: 0.3380\n",
            "Epoch 30/100\n",
            "10/10 [==============================] - 1s 100ms/step - loss: 0.3270 - val_loss: 0.3357\n",
            "Epoch 31/100\n",
            "10/10 [==============================] - 1s 108ms/step - loss: 0.3119 - val_loss: 0.3365\n",
            "Epoch 32/100\n",
            "10/10 [==============================] - 1s 105ms/step - loss: 0.3276 - val_loss: 0.3329\n",
            "Epoch 33/100\n",
            "10/10 [==============================] - 1s 97ms/step - loss: 0.3215 - val_loss: 0.3329\n",
            "Epoch 34/100\n",
            "10/10 [==============================] - 1s 119ms/step - loss: 0.3091 - val_loss: 0.3322\n",
            "Epoch 35/100\n",
            "10/10 [==============================] - 1s 97ms/step - loss: 0.3138 - val_loss: 0.3394\n",
            "Epoch 36/100\n",
            "10/10 [==============================] - 1s 104ms/step - loss: 0.3078 - val_loss: 0.3437\n",
            "Epoch 37/100\n",
            "10/10 [==============================] - 1s 92ms/step - loss: 0.3139 - val_loss: 0.3337\n",
            "Epoch 38/100\n",
            "10/10 [==============================] - 1s 89ms/step - loss: 0.3175 - val_loss: 0.3475\n",
            "Epoch 39/100\n",
            "10/10 [==============================] - ETA: 0s - loss: 0.316 - 1s 91ms/step - loss: 0.3156 - val_loss: 0.3486\n",
            "Epoch 40/100\n",
            "10/10 [==============================] - 1s 89ms/step - loss: 0.3030 - val_loss: 0.3438\n",
            "Epoch 41/100\n",
            "10/10 [==============================] - 1s 88ms/step - loss: 0.2993 - val_loss: 0.3334\n",
            "Epoch 42/100\n",
            "10/10 [==============================] - 1s 87ms/step - loss: 0.3002 - val_loss: 0.3328\n",
            "Epoch 43/100\n",
            "10/10 [==============================] - 1s 87ms/step - loss: 0.2953 - val_loss: 0.3358\n",
            "Epoch 44/100\n",
            "10/10 [==============================] - 1s 92ms/step - loss: 0.2968 - val_loss: 0.3299\n",
            "Epoch 45/100\n",
            "10/10 [==============================] - 1s 93ms/step - loss: 0.2970 - val_loss: 0.3211\n",
            "Epoch 46/100\n",
            "10/10 [==============================] - 1s 96ms/step - loss: 0.2825 - val_loss: 0.3253\n",
            "Epoch 47/100\n",
            "10/10 [==============================] - 1s 92ms/step - loss: 0.2932 - val_loss: 0.3315\n",
            "Epoch 48/100\n",
            "10/10 [==============================] - 1s 92ms/step - loss: 0.2828 - val_loss: 0.3285\n",
            "Epoch 49/100\n",
            "10/10 [==============================] - 1s 92ms/step - loss: 0.2795 - val_loss: 0.3395\n",
            "Epoch 50/100\n",
            "10/10 [==============================] - 1s 86ms/step - loss: 0.2791 - val_loss: 0.3529\n",
            "Epoch 51/100\n",
            "10/10 [==============================] - 1s 84ms/step - loss: 0.2822 - val_loss: 0.3486\n",
            "Epoch 52/100\n",
            "10/10 [==============================] - 1s 86ms/step - loss: 0.2724 - val_loss: 0.3441\n",
            "Epoch 53/100\n",
            "10/10 [==============================] - 1s 86ms/step - loss: 0.2822 - val_loss: 0.3368\n",
            "Epoch 54/100\n",
            "10/10 [==============================] - 1s 82ms/step - loss: 0.2718 - val_loss: 0.3272\n",
            "Epoch 55/100\n",
            "10/10 [==============================] - 1s 86ms/step - loss: 0.2673 - val_loss: 0.3334\n",
            "Epoch 56/100\n",
            "10/10 [==============================] - 1s 88ms/step - loss: 0.2616 - val_loss: 0.3337\n",
            "Epoch 57/100\n",
            "10/10 [==============================] - 1s 84ms/step - loss: 0.2645 - val_loss: 0.3316\n",
            "Epoch 58/100\n",
            "10/10 [==============================] - 1s 84ms/step - loss: 0.2520 - val_loss: 0.3524\n",
            "Epoch 59/100\n",
            "10/10 [==============================] - 1s 84ms/step - loss: 0.2757 - val_loss: 0.3397\n",
            "Epoch 60/100\n",
            "10/10 [==============================] - 1s 84ms/step - loss: 0.2662 - val_loss: 0.3446\n",
            "Epoch 61/100\n",
            "10/10 [==============================] - 1s 88ms/step - loss: 0.2750 - val_loss: 0.3343\n",
            "Epoch 62/100\n",
            "10/10 [==============================] - 1s 87ms/step - loss: 0.2489 - val_loss: 0.3365\n",
            "Epoch 63/100\n",
            "10/10 [==============================] - 1s 87ms/step - loss: 0.2588 - val_loss: 0.3405\n",
            "Epoch 64/100\n",
            "10/10 [==============================] - 1s 87ms/step - loss: 0.2551 - val_loss: 0.3433\n",
            "Epoch 65/100\n",
            "10/10 [==============================] - 1s 87ms/step - loss: 0.2525 - val_loss: 0.3417\n",
            "Epoch 66/100\n",
            "10/10 [==============================] - 1s 88ms/step - loss: 0.2444 - val_loss: 0.3455\n",
            "Epoch 67/100\n",
            "10/10 [==============================] - 1s 85ms/step - loss: 0.2388 - val_loss: 0.3487\n",
            "Epoch 68/100\n",
            "10/10 [==============================] - 1s 84ms/step - loss: 0.2416 - val_loss: 0.3487\n",
            "Epoch 69/100\n",
            "10/10 [==============================] - 1s 85ms/step - loss: 0.2378 - val_loss: 0.3426\n",
            "Epoch 70/100\n",
            "10/10 [==============================] - 1s 85ms/step - loss: 0.2315 - val_loss: 0.3452\n",
            "Epoch 71/100\n",
            "10/10 [==============================] - 1s 86ms/step - loss: 0.2386 - val_loss: 0.3561\n",
            "Epoch 72/100\n",
            "10/10 [==============================] - 1s 89ms/step - loss: 0.2333 - val_loss: 0.3422\n",
            "Epoch 73/100\n",
            "10/10 [==============================] - 1s 84ms/step - loss: 0.2343 - val_loss: 0.3528\n",
            "Epoch 74/100\n",
            "10/10 [==============================] - 1s 85ms/step - loss: 0.2246 - val_loss: 0.3592\n",
            "Epoch 75/100\n",
            "10/10 [==============================] - 1s 84ms/step - loss: 0.2299 - val_loss: 0.3446\n",
            "Epoch 76/100\n",
            "10/10 [==============================] - 1s 84ms/step - loss: 0.2156 - val_loss: 0.3648\n",
            "Epoch 77/100\n",
            "10/10 [==============================] - 1s 84ms/step - loss: 0.2310 - val_loss: 0.3708\n",
            "Epoch 78/100\n",
            "10/10 [==============================] - 1s 83ms/step - loss: 0.2221 - val_loss: 0.3661\n",
            "Epoch 79/100\n",
            "10/10 [==============================] - 1s 83ms/step - loss: 0.2187 - val_loss: 0.3587\n",
            "Epoch 80/100\n",
            "10/10 [==============================] - 1s 84ms/step - loss: 0.2237 - val_loss: 0.3543\n",
            "Epoch 81/100\n",
            "10/10 [==============================] - 1s 86ms/step - loss: 0.2092 - val_loss: 0.3540\n"
          ]
        },
        {
          "name": "stdout",
          "output_type": "stream",
          "text": [
            "Epoch 82/100\n",
            "10/10 [==============================] - 1s 90ms/step - loss: 0.2165 - val_loss: 0.3807\n",
            "Epoch 83/100\n",
            "10/10 [==============================] - 1s 84ms/step - loss: 0.2010 - val_loss: 0.3574\n",
            "Epoch 84/100\n",
            "10/10 [==============================] - 1s 85ms/step - loss: 0.2034 - val_loss: 0.3611\n",
            "Epoch 85/100\n",
            "10/10 [==============================] - 1s 82ms/step - loss: 0.1986 - val_loss: 0.3785\n",
            "Epoch 86/100\n",
            "10/10 [==============================] - 1s 86ms/step - loss: 0.2210 - val_loss: 0.3687\n",
            "Epoch 87/100\n",
            "10/10 [==============================] - 1s 83ms/step - loss: 0.2043 - val_loss: 0.3629\n",
            "Epoch 88/100\n",
            "10/10 [==============================] - 1s 82ms/step - loss: 0.2089 - val_loss: 0.3537\n",
            "Epoch 89/100\n",
            "10/10 [==============================] - 1s 82ms/step - loss: 0.2030 - val_loss: 0.3715\n",
            "Epoch 90/100\n",
            "10/10 [==============================] - 1s 83ms/step - loss: 0.1926 - val_loss: 0.3753\n",
            "Epoch 91/100\n",
            "10/10 [==============================] - 1s 93ms/step - loss: 0.1922 - val_loss: 0.3873\n",
            "Epoch 92/100\n",
            "10/10 [==============================] - 1s 95ms/step - loss: 0.1896 - val_loss: 0.3902\n",
            "Epoch 93/100\n",
            "10/10 [==============================] - 1s 95ms/step - loss: 0.1881 - val_loss: 0.3842\n",
            "Epoch 94/100\n",
            "10/10 [==============================] - 1s 93ms/step - loss: 0.1882 - val_loss: 0.3867\n",
            "Epoch 95/100\n",
            "10/10 [==============================] - 1s 90ms/step - loss: 0.1853 - val_loss: 0.3745\n",
            "Epoch 96/100\n",
            "10/10 [==============================] - 1s 94ms/step - loss: 0.1806 - val_loss: 0.3802\n",
            "Epoch 97/100\n",
            "10/10 [==============================] - 1s 92ms/step - loss: 0.1771 - val_loss: 0.4021\n",
            "Epoch 98/100\n",
            "10/10 [==============================] - 1s 88ms/step - loss: 0.1797 - val_loss: 0.3948\n",
            "Epoch 99/100\n",
            "10/10 [==============================] - 1s 89ms/step - loss: 0.1729 - val_loss: 0.3888\n",
            "Epoch 100/100\n",
            "10/10 [==============================] - 1s 83ms/step - loss: 0.1743 - val_loss: 0.3958\n"
          ]
        },
        {
          "data": {
            "text/plain": [
              "<tensorflow.python.keras.callbacks.History at 0x206b127ce48>"
            ]
          },
          "execution_count": 110,
          "metadata": {},
          "output_type": "execute_result"
        }
      ],
      "source": [
        "model.fit(xtrain_pad, y=ytrain_enc, batch_size=512, epochs=100, verbose=1, validation_data=(xvalid_pad, yvalid_enc))"
      ]
    },
    {
      "cell_type": "code",
      "execution_count": null,
      "metadata": {
        "id": "YmVxgS0LltMi",
        "outputId": "9ec567fb-281d-4a1b-f75b-f2e12ed47ae7"
      },
      "outputs": [
        {
          "name": "stdout",
          "output_type": "stream",
          "text": [
            "              precision    recall  f1-score   support\n",
            "\n",
            "           0       0.56      0.39      0.46       179\n",
            "           1       0.89      0.94      0.92       977\n",
            "\n",
            "    accuracy                           0.86      1156\n",
            "   macro avg       0.72      0.66      0.69      1156\n",
            "weighted avg       0.84      0.86      0.85      1156\n",
            "\n"
          ]
        },
        {
          "data": {
            "text/plain": [
              "Text(0.5, 1, 'Confusion Matrix')"
            ]
          },
          "execution_count": 111,
          "metadata": {},
          "output_type": "execute_result"
        },
        {
          "data": {
            "image/png": "[encoded data removed]",
            "text/plain": [
              "<Figure size 432x288 with 2 Axes>"
            ]
          },
          "metadata": {
            "needs_background": "light"
          },
          "output_type": "display_data"
        }
      ],
      "source": [
        "prediction['LSTM_glove'] = model.predict_classes(xvalid_pad)\n",
        "\n",
        "y_pred = model.predict(xvalid_pad)\n",
        "\n",
        "print(classification_report(yvalid_enc.argmax(axis=1), y_pred.argmax(axis=1)))\n",
        "\n",
        "cf_matrix = confusion_matrix(yvalid_enc.argmax(axis=1), y_pred.argmax(axis=1))\n",
        "\n",
        "categories  = ['Negative','Positive']\n",
        "group_names = ['True Neg','False Pos', 'False Neg','True Pos']\n",
        "group_percentages = ['{0:.2%}'.format(value) for value in cf_matrix.flatten() / np.sum(cf_matrix)]\n",
        "\n",
        "labels = [f'{v1}\\n{v2}' for v1, v2 in zip(group_names,group_percentages)]\n",
        "labels = np.asarray(labels).reshape(2,2)\n",
        "\n",
        "sns.heatmap(cf_matrix, annot = labels, cmap = 'Blues',fmt = '',\n",
        "            xticklabels = categories, yticklabels = categories)\n",
        "\n",
        "plt.xlabel(\"Predicted values\", fontdict = {'size':14}, labelpad = 10)\n",
        "plt.ylabel(\"Actual values\"   , fontdict = {'size':14}, labelpad = 10)\n",
        "plt.title (\"Confusion Matrix\", fontdict = {'size':18}, pad = 20)"
      ]
    },
    {
      "cell_type": "markdown",
      "metadata": {
        "id": "PWe03X5yltMi"
      },
      "source": [
        "### - biLSTM"
      ]
    },
    {
      "cell_type": "code",
      "execution_count": null,
      "metadata": {
        "id": "JECvVdNLltMj",
        "outputId": "05ca4b81-b2d5-4464-8d73-dcf88a10ebc6"
      },
      "outputs": [
        {
          "name": "stdout",
          "output_type": "stream",
          "text": [
            "Epoch 1/100\n",
            "10/10 [==============================] - 2s 177ms/step - loss: 0.5022 - val_loss: 0.4254\n",
            "Epoch 2/100\n",
            "10/10 [==============================] - 1s 129ms/step - loss: 0.4272 - val_loss: 0.4053\n",
            "Epoch 3/100\n",
            "10/10 [==============================] - 1s 129ms/step - loss: 0.4024 - val_loss: 0.3881\n",
            "Epoch 4/100\n",
            "10/10 [==============================] - 1s 126ms/step - loss: 0.3884 - val_loss: 0.3916\n",
            "Epoch 5/100\n",
            "10/10 [==============================] - 1s 123ms/step - loss: 0.3750 - val_loss: 0.3831\n",
            "Epoch 6/100\n",
            "10/10 [==============================] - 1s 128ms/step - loss: 0.3730 - val_loss: 0.3731\n",
            "Epoch 7/100\n",
            "10/10 [==============================] - 1s 123ms/step - loss: 0.3618 - val_loss: 0.3706\n",
            "Epoch 8/100\n",
            "10/10 [==============================] - 1s 124ms/step - loss: 0.3649 - val_loss: 0.3579\n",
            "Epoch 9/100\n",
            "10/10 [==============================] - 1s 125ms/step - loss: 0.3619 - val_loss: 0.3571\n",
            "Epoch 10/100\n",
            "10/10 [==============================] - 1s 129ms/step - loss: 0.3542 - val_loss: 0.3611\n",
            "Epoch 11/100\n",
            "10/10 [==============================] - 1s 123ms/step - loss: 0.3630 - val_loss: 0.3646\n",
            "Epoch 12/100\n",
            "10/10 [==============================] - 1s 121ms/step - loss: 0.3533 - val_loss: 0.3626\n",
            "Epoch 13/100\n",
            "10/10 [==============================] - 1s 121ms/step - loss: 0.3538 - val_loss: 0.3506\n",
            "Epoch 14/100\n",
            "10/10 [==============================] - 1s 131ms/step - loss: 0.3460 - val_loss: 0.3603\n",
            "Epoch 15/100\n",
            "10/10 [==============================] - 1s 124ms/step - loss: 0.3456 - val_loss: 0.3503\n",
            "Epoch 16/100\n",
            "10/10 [==============================] - 1s 125ms/step - loss: 0.3493 - val_loss: 0.3469\n",
            "Epoch 17/100\n",
            "10/10 [==============================] - 1s 127ms/step - loss: 0.3542 - val_loss: 0.3561\n",
            "Epoch 18/100\n",
            "10/10 [==============================] - 1s 120ms/step - loss: 0.3397 - val_loss: 0.3531\n",
            "Epoch 19/100\n",
            "10/10 [==============================] - 1s 117ms/step - loss: 0.3416 - val_loss: 0.3601\n",
            "Epoch 20/100\n",
            "10/10 [==============================] - 1s 119ms/step - loss: 0.3333 - val_loss: 0.3518\n",
            "Epoch 21/100\n",
            "10/10 [==============================] - 1s 117ms/step - loss: 0.3276 - val_loss: 0.3449\n",
            "Epoch 22/100\n",
            "10/10 [==============================] - 1s 121ms/step - loss: 0.3353 - val_loss: 0.3486\n",
            "Epoch 23/100\n",
            "10/10 [==============================] - 1s 124ms/step - loss: 0.3234 - val_loss: 0.3490\n",
            "Epoch 24/100\n",
            "10/10 [==============================] - 1s 123ms/step - loss: 0.3241 - val_loss: 0.3419\n",
            "Epoch 25/100\n",
            "10/10 [==============================] - 1s 117ms/step - loss: 0.3250 - val_loss: 0.3383\n",
            "Epoch 26/100\n",
            "10/10 [==============================] - 1s 113ms/step - loss: 0.3092 - val_loss: 0.3411\n",
            "Epoch 27/100\n",
            "10/10 [==============================] - 1s 114ms/step - loss: 0.3162 - val_loss: 0.3408\n",
            "Epoch 28/100\n",
            "10/10 [==============================] - 1s 117ms/step - loss: 0.3103 - val_loss: 0.3435\n",
            "Epoch 29/100\n",
            "10/10 [==============================] - 1s 116ms/step - loss: 0.3120 - val_loss: 0.3411\n",
            "Epoch 30/100\n",
            "10/10 [==============================] - 1s 115ms/step - loss: 0.3049 - val_loss: 0.3369\n",
            "Epoch 31/100\n",
            "10/10 [==============================] - 1s 120ms/step - loss: 0.3047 - val_loss: 0.3350\n",
            "Epoch 32/100\n",
            "10/10 [==============================] - 1s 119ms/step - loss: 0.3059 - val_loss: 0.3514\n",
            "Epoch 33/100\n",
            "10/10 [==============================] - 1s 114ms/step - loss: 0.3071 - val_loss: 0.3432\n",
            "Epoch 34/100\n",
            "10/10 [==============================] - 1s 113ms/step - loss: 0.2992 - val_loss: 0.3361\n",
            "Epoch 35/100\n",
            "10/10 [==============================] - 1s 117ms/step - loss: 0.2994 - val_loss: 0.3403\n",
            "Epoch 36/100\n",
            "10/10 [==============================] - 1s 117ms/step - loss: 0.2919 - val_loss: 0.3409\n"
          ]
        },
        {
          "data": {
            "text/plain": [
              "<tensorflow.python.keras.callbacks.History at 0x206bded1b48>"
            ]
          },
          "execution_count": 112,
          "metadata": {},
          "output_type": "execute_result"
        }
      ],
      "source": [
        "# A simple bidirectional LSTM with glove embeddings and two dense layers\n",
        "model = Sequential()\n",
        "model.add(Embedding(len(word_index) + 1,\n",
        "                     300,\n",
        "                     weights=[embedding_matrix],\n",
        "                     input_length=max_len,\n",
        "                     trainable=False))\n",
        "model.add(SpatialDropout1D(0.3))\n",
        "model.add(Bidirectional(LSTM(100, dropout=0.3, recurrent_dropout=0.3)))\n",
        "\n",
        "model.add(Dense(1024, activation='relu'))\n",
        "model.add(Dropout(0.8))\n",
        "\n",
        "model.add(Dense(1024, activation='relu'))\n",
        "model.add(Dropout(0.8))\n",
        "\n",
        "model.add(Dense(2))\n",
        "model.add(Activation('sigmoid'))\n",
        "model.compile(loss='binary_crossentropy', optimizer='adam')\n",
        "\n",
        "# Fit the model with early stopping callback\n",
        "earlystop = EarlyStopping(monitor='val_loss', min_delta=0, patience=5, verbose=0, mode='auto')\n",
        "model.fit(xtrain_pad, y=ytrain_enc, batch_size=512, epochs=100, \n",
        "          verbose=1, validation_data=(xvalid_pad, yvalid_enc), callbacks=[earlystop])"
      ]
    },
    {
      "cell_type": "code",
      "execution_count": null,
      "metadata": {
        "id": "uY4O0whWltMj",
        "outputId": "b8098e90-3031-4886-d83d-0f6cc4545fd7"
      },
      "outputs": [
        {
          "name": "stdout",
          "output_type": "stream",
          "text": [
            "              precision    recall  f1-score   support\n",
            "\n",
            "           0       0.60      0.30      0.40       179\n",
            "           1       0.88      0.96      0.92       977\n",
            "\n",
            "    accuracy                           0.86      1156\n",
            "   macro avg       0.74      0.63      0.66      1156\n",
            "weighted avg       0.84      0.86      0.84      1156\n",
            "\n"
          ]
        },
        {
          "data": {
            "text/plain": [
              "Text(0.5, 1, 'Confusion Matrix')"
            ]
          },
          "execution_count": 113,
          "metadata": {},
          "output_type": "execute_result"
        },
        {
          "data": {
            "image/png": "[encoded data removed]",
            "text/plain": [
              "<Figure size 432x288 with 2 Axes>"
            ]
          },
          "metadata": {
            "needs_background": "light"
          },
          "output_type": "display_data"
        }
      ],
      "source": [
        "prediction['BiLSTM_glove'] = model.predict_classes(xvalid_pad)\n",
        "\n",
        "y_pred = model.predict(xvalid_pad)\n",
        "\n",
        "print(classification_report(yvalid_enc.argmax(axis=1), y_pred.argmax(axis=1)))\n",
        "\n",
        "cf_matrix = confusion_matrix(yvalid_enc.argmax(axis=1), y_pred.argmax(axis=1))\n",
        "\n",
        "categories  = ['Negative','Positive']\n",
        "group_names = ['True Neg','False Pos', 'False Neg','True Pos']\n",
        "group_percentages = ['{0:.2%}'.format(value) for value in cf_matrix.flatten() / np.sum(cf_matrix)]\n",
        "\n",
        "labels = [f'{v1}\\n{v2}' for v1, v2 in zip(group_names,group_percentages)]\n",
        "labels = np.asarray(labels).reshape(2,2)\n",
        "\n",
        "sns.heatmap(cf_matrix, annot = labels, cmap = 'Blues',fmt = '',\n",
        "            xticklabels = categories, yticklabels = categories)\n",
        "\n",
        "plt.xlabel(\"Predicted values\", fontdict = {'size':14}, labelpad = 10)\n",
        "plt.ylabel(\"Actual values\"   , fontdict = {'size':14}, labelpad = 10)\n",
        "plt.title (\"Confusion Matrix\", fontdict = {'size':18}, pad = 20)"
      ]
    },
    {
      "cell_type": "markdown",
      "metadata": {
        "id": "P7xK9n9QltMj"
      },
      "source": [
        "### - GRU"
      ]
    },
    {
      "cell_type": "code",
      "execution_count": null,
      "metadata": {
        "id": "OiMPn2bGltMj",
        "outputId": "dc0b43d0-3ff3-491f-ccca-0f803ab8bade"
      },
      "outputs": [
        {
          "name": "stdout",
          "output_type": "stream",
          "text": [
            "Epoch 1/100\n",
            "10/10 [==============================] - 2s 193ms/step - loss: 0.5083 - val_loss: 0.4708\n",
            "Epoch 2/100\n",
            "10/10 [==============================] - 1s 143ms/step - loss: 0.4381 - val_loss: 0.3978\n",
            "Epoch 3/100\n",
            "10/10 [==============================] - 1s 143ms/step - loss: 0.4084 - val_loss: 0.3923\n",
            "Epoch 4/100\n",
            "10/10 [==============================] - 1s 139ms/step - loss: 0.3901 - val_loss: 0.3816\n",
            "Epoch 5/100\n",
            "10/10 [==============================] - 1s 144ms/step - loss: 0.3835 - val_loss: 0.3784\n",
            "Epoch 6/100\n",
            "10/10 [==============================] - 1s 140ms/step - loss: 0.3839 - val_loss: 0.3655\n",
            "Epoch 7/100\n",
            "10/10 [==============================] - 1s 142ms/step - loss: 0.3802 - val_loss: 0.3783\n",
            "Epoch 8/100\n",
            "10/10 [==============================] - 1s 141ms/step - loss: 0.3724 - val_loss: 0.3569\n",
            "Epoch 9/100\n",
            "10/10 [==============================] - 1s 140ms/step - loss: 0.3764 - val_loss: 0.3640\n",
            "Epoch 10/100\n",
            "10/10 [==============================] - 1s 140ms/step - loss: 0.3656 - val_loss: 0.3807\n",
            "Epoch 11/100\n",
            "10/10 [==============================] - 2s 151ms/step - loss: 0.3597 - val_loss: 0.3729\n"
          ]
        },
        {
          "data": {
            "text/plain": [
              "<tensorflow.python.keras.callbacks.History at 0x206c56694c8>"
            ]
          },
          "execution_count": 114,
          "metadata": {},
          "output_type": "execute_result"
        }
      ],
      "source": [
        "# GRU with glove embeddings and two dense layers\n",
        "model = Sequential()\n",
        "model.add(Embedding(len(word_index) + 1,\n",
        "                     300,\n",
        "                     weights=[embedding_matrix],\n",
        "                     input_length=max_len,\n",
        "                     trainable=False))\n",
        "model.add(SpatialDropout1D(0.3))\n",
        "model.add(GRU(200, dropout=0.3, recurrent_dropout=0.3, return_sequences=True))\n",
        "model.add(GRU(200, dropout=0.3, recurrent_dropout=0.3))\n",
        "\n",
        "model.add(Dense(1024, activation='relu'))\n",
        "model.add(Dropout(0.8))\n",
        "\n",
        "model.add(Dense(1024, activation='relu'))\n",
        "model.add(Dropout(0.8))\n",
        "\n",
        "model.add(Dense(2))\n",
        "model.add(Activation('sigmoid'))\n",
        "model.compile(loss='binary_crossentropy', optimizer='adam')\n",
        "\n",
        "# Fit the model with early stopping callback\n",
        "earlystop = EarlyStopping(monitor='val_loss', min_delta=0, patience=3, verbose=0, mode='auto')\n",
        "model.fit(xtrain_pad, y=ytrain_enc, batch_size=512, epochs=100, \n",
        "          verbose=1, validation_data=(xvalid_pad, yvalid_enc), callbacks=[earlystop])"
      ]
    },
    {
      "cell_type": "code",
      "execution_count": null,
      "metadata": {
        "id": "jwQcpKlPltMk",
        "outputId": "8abb87ff-6ae6-454c-dac4-127029a70062"
      },
      "outputs": [
        {
          "name": "stdout",
          "output_type": "stream",
          "text": [
            "              precision    recall  f1-score   support\n",
            "\n",
            "           0       0.87      0.15      0.25       179\n",
            "           1       0.86      1.00      0.93       977\n",
            "\n",
            "    accuracy                           0.86      1156\n",
            "   macro avg       0.87      0.57      0.59      1156\n",
            "weighted avg       0.86      0.86      0.82      1156\n",
            "\n"
          ]
        },
        {
          "data": {
            "text/plain": [
              "Text(0.5, 1, 'Confusion Matrix')"
            ]
          },
          "execution_count": 115,
          "metadata": {},
          "output_type": "execute_result"
        },
        {
          "data": {
            "image/png": "[encoded data removed]",
            "text/plain": [
              "<Figure size 432x288 with 2 Axes>"
            ]
          },
          "metadata": {
            "needs_background": "light"
          },
          "output_type": "display_data"
        }
      ],
      "source": [
        "prediction['GRU_glove'] = model.predict_classes(xvalid_pad)\n",
        "\n",
        "y_pred = model.predict(xvalid_pad)\n",
        "\n",
        "print(classification_report(yvalid_enc.argmax(axis=1), y_pred.argmax(axis=1)))\n",
        "\n",
        "cf_matrix = confusion_matrix(yvalid_enc.argmax(axis=1), y_pred.argmax(axis=1))\n",
        "\n",
        "categories  = ['Negative','Positive']\n",
        "group_names = ['True Neg','False Pos', 'False Neg','True Pos']\n",
        "group_percentages = ['{0:.2%}'.format(value) for value in cf_matrix.flatten() / np.sum(cf_matrix)]\n",
        "\n",
        "labels = [f'{v1}\\n{v2}' for v1, v2 in zip(group_names,group_percentages)]\n",
        "labels = np.asarray(labels).reshape(2,2)\n",
        "\n",
        "sns.heatmap(cf_matrix, annot = labels, cmap = 'Blues',fmt = '',\n",
        "            xticklabels = categories, yticklabels = categories)\n",
        "\n",
        "plt.xlabel(\"Predicted values\", fontdict = {'size':14}, labelpad = 10)\n",
        "plt.ylabel(\"Actual values\"   , fontdict = {'size':14}, labelpad = 10)\n",
        "plt.title (\"Confusion Matrix\", fontdict = {'size':18}, pad = 20)"
      ]
    },
    {
      "cell_type": "markdown",
      "metadata": {
        "id": "1KCyccGeltMk"
      },
      "source": [
        "## - Model comparison"
      ]
    },
    {
      "cell_type": "code",
      "execution_count": null,
      "metadata": {
        "id": "F0ksH9DfltMk",
        "outputId": "3df43b80-a3a2-4ab2-ea60-248655e5422b"
      },
      "outputs": [
        {
          "data": {
            "image/png": "[encoded data removed]",
            "text/plain": [
              "<Figure size 432x288 with 1 Axes>"
            ]
          },
          "metadata": {
            "needs_background": "light"
          },
          "output_type": "display_data"
        }
      ],
      "source": [
        "# ROC curve\n",
        "\n",
        "colors_1 = ['navy', 'royalblue', 'brown', 'indianred', 'gold', 'darkgreen', 'darkcyan', 'springgreen', 'lightyellow']\n",
        "\n",
        "colors_2 = ['lightsalmon', 'blueviolet', 'purple', 'lightslategrey']\n",
        "\n",
        "cmp_1 = 0\n",
        "for model, predicted in prediction.items():\n",
        "    if model in ('Logistic', 'Logistic_TFIDF', 'Naive Bayes_TFIDF',\n",
        "                 'SVM_TFIDF', 'XGboost', 'XGboost_TFIDF', 'XGboost_TFIDF_SVD',\n",
        "                 'XGboost_glove'):\n",
        "        false_positive_rate, true_positive_rate, thresholds = roc_curve(y_test, predicted)\n",
        "        roc_auc = auc(false_positive_rate, true_positive_rate)\n",
        "        plt.plot(false_positive_rate, true_positive_rate, colors_1[cmp_1], label='%s: AUC %0.2f'% (model,roc_auc))\n",
        "        cmp_1 += 1\n",
        "\n",
        "cmp_2 = 0\n",
        "for model, predicted in prediction.items():\n",
        "    if model in ('ANN_glove', 'LSTM_glove', 'BiLSTM_glove', 'GRU_glove'):\n",
        "        false_positive_rate, true_positive_rate, thresholds = roc_curve(y_test, y_pred.argmax(axis=1))\n",
        "        roc_auc = auc(false_positive_rate, true_positive_rate)\n",
        "        plt.plot(false_positive_rate, true_positive_rate, colors_2[cmp_2], label='%s: AUC %0.2f'% (model,roc_auc))\n",
        "        cmp_2 += 1\n",
        "        \n",
        "plt.title('Classifiers comparaison with ROC')\n",
        "plt.legend(loc='lower right')\n",
        "plt.plot([0,1],[0,1],'r--')\n",
        "plt.xlim([-0.1,1.2])\n",
        "plt.ylim([-0.1,1.2])\n",
        "plt.ylabel('True Positive Rate')\n",
        "plt.xlabel('False Positive Rate')\n",
        "plt.rc('figure', figsize=(12, 8))\n",
        "plt.show()"
      ]
    },
    {
      "cell_type": "code",
      "execution_count": null,
      "metadata": {
        "id": "3rovKsR3ltMk"
      },
      "outputs": [],
      "source": [
        "# Accuracy comparison \n",
        "\n",
        "model = ['Logistic', 'Logistic_TFIDF', 'Naive Bayes_TFIDF',\n",
        "        'SVM_TFIDF', 'XGboost', 'XGboost_TFIDF', 'XGboost_TFIDF_SVD',\n",
        "        'XGboost_glove']\n",
        "accuracy = []\n",
        "\n",
        "for m in model:\n",
        "    accuracy.append(accuracy_score(y_test, prediction[m]))\n",
        "       \n",
        "accuracy_list = pd.DataFrame({'model': model, 'accuracy' : accuracy})"
      ]
    },
    {
      "cell_type": "code",
      "execution_count": null,
      "metadata": {
        "id": "6uE0axgyltMl",
        "outputId": "bd4d486d-4ba6-4628-c674-aac1ecbdff56"
      },
      "outputs": [
        {
          "data": {
            "text/html": [
              "<div>\n",
              "<style scoped>\n",
              "    .dataframe tbody tr th:only-of-type {\n",
              "        vertical-align: middle;\n",
              "    }\n",
              "\n",
              "    .dataframe tbody tr th {\n",
              "        vertical-align: top;\n",
              "    }\n",
              "\n",
              "    .dataframe thead th {\n",
              "        text-align: right;\n",
              "    }\n",
              "</style>\n",
              "<table border=\"1\" class=\"dataframe\">\n",
              "  <thead>\n",
              "    <tr style=\"text-align: right;\">\n",
              "      <th></th>\n",
              "      <th>model</th>\n",
              "      <th>accuracy</th>\n",
              "    </tr>\n",
              "  </thead>\n",
              "  <tbody>\n",
              "    <tr>\n",
              "      <th>0</th>\n",
              "      <td>Logistic</td>\n",
              "      <td>0.906574</td>\n",
              "    </tr>\n",
              "    <tr>\n",
              "      <th>1</th>\n",
              "      <td>Logistic_TFIDF</td>\n",
              "      <td>0.881488</td>\n",
              "    </tr>\n",
              "    <tr>\n",
              "      <th>2</th>\n",
              "      <td>Naive Bayes_TFIDF</td>\n",
              "      <td>0.878893</td>\n",
              "    </tr>\n",
              "    <tr>\n",
              "      <th>3</th>\n",
              "      <td>SVM_TFIDF</td>\n",
              "      <td>0.889273</td>\n",
              "    </tr>\n",
              "    <tr>\n",
              "      <th>4</th>\n",
              "      <td>XGboost</td>\n",
              "      <td>0.905709</td>\n",
              "    </tr>\n",
              "    <tr>\n",
              "      <th>5</th>\n",
              "      <td>XGboost_TFIDF</td>\n",
              "      <td>0.900519</td>\n",
              "    </tr>\n",
              "    <tr>\n",
              "      <th>6</th>\n",
              "      <td>XGboost_TFIDF_SVD</td>\n",
              "      <td>0.891869</td>\n",
              "    </tr>\n",
              "    <tr>\n",
              "      <th>7</th>\n",
              "      <td>XGboost_glove</td>\n",
              "      <td>0.890138</td>\n",
              "    </tr>\n",
              "  </tbody>\n",
              "</table>\n",
              "</div>"
            ],
            "text/plain": [
              "               model  accuracy\n",
              "0           Logistic  0.906574\n",
              "1     Logistic_TFIDF  0.881488\n",
              "2  Naive Bayes_TFIDF  0.878893\n",
              "3          SVM_TFIDF  0.889273\n",
              "4            XGboost  0.905709\n",
              "5      XGboost_TFIDF  0.900519\n",
              "6  XGboost_TFIDF_SVD  0.891869\n",
              "7      XGboost_glove  0.890138"
            ]
          },
          "execution_count": 118,
          "metadata": {},
          "output_type": "execute_result"
        }
      ],
      "source": [
        "accuracy_list"
      ]
    },
    {
      "cell_type": "code",
      "execution_count": null,
      "metadata": {
        "id": "Xis7GILNltMl",
        "outputId": "648b2594-5e58-4a00-a62e-a2593a458762"
      },
      "outputs": [
        {
          "data": {
            "text/plain": [
              "Text(0.5, 1.0, 'Classifiers comparaison with accuracy')"
            ]
          },
          "execution_count": 119,
          "metadata": {},
          "output_type": "execute_result"
        },
        {
          "data": {
            "image/png": "[encoded data removed]",
            "text/plain": [
              "<Figure size 864x576 with 1 Axes>"
            ]
          },
          "metadata": {},
          "output_type": "display_data"
        }
      ],
      "source": [
        "y = accuracy_list['model']\n",
        "x = accuracy_list['accuracy'].sort_values(ascending=False).values\n",
        "\n",
        "sns.set(style=\"whitegrid\")\n",
        "ax = sns.barplot(x=x, y=y)\n",
        "ax.set_title('Classifiers comparaison with accuracy')"
      ]
    },
    {
      "cell_type": "markdown",
      "metadata": {
        "id": "OVClW-4EltMl"
      },
      "source": [
        "## - visualization: keywords from logistic regression"
      ]
    },
    {
      "cell_type": "markdown",
      "metadata": {
        "id": "pZBsrF_KltMl"
      },
      "source": [
        "### - XGBoost"
      ]
    },
    {
      "cell_type": "code",
      "execution_count": null,
      "metadata": {
        "id": "Mkldnub7ltMl",
        "outputId": "aa842ac6-922e-41d8-fea0-5d28ebc8bbdf"
      },
      "outputs": [
        {
          "name": "stdout",
          "output_type": "stream",
          "text": [
            "[21:29:22] WARNING: C:\\Users\\Administrator\\workspace\\xgboost-win64_release_1.2.0\\src\\learner.cc:516: \n",
            "Parameters: { colsample_bytree, max_depth, subsample } might not be used.\n",
            "\n",
            "  This may not be accurate due to some parameters are only used in language bindings but\n",
            "  passed down to XGBoost core.  Or some parameters are not used but slip through this\n",
            "  verification. Please open an issue if you find above cases.\n",
            "\n",
            "\n"
          ]
        },
        {
          "data": {
            "text/html": [
              "<div>\n",
              "<style scoped>\n",
              "    .dataframe tbody tr th:only-of-type {\n",
              "        vertical-align: middle;\n",
              "    }\n",
              "\n",
              "    .dataframe tbody tr th {\n",
              "        vertical-align: top;\n",
              "    }\n",
              "\n",
              "    .dataframe thead th {\n",
              "        text-align: right;\n",
              "    }\n",
              "</style>\n",
              "<table border=\"1\" class=\"dataframe\">\n",
              "  <thead>\n",
              "    <tr style=\"text-align: right;\">\n",
              "      <th></th>\n",
              "      <th>word</th>\n",
              "      <th>coefficient</th>\n",
              "    </tr>\n",
              "  </thead>\n",
              "  <tbody>\n",
              "    <tr>\n",
              "      <th>46931</th>\n",
              "      <td>taste enjoyed</td>\n",
              "      <td>14.4975</td>\n",
              "    </tr>\n",
              "    <tr>\n",
              "      <th>29189</th>\n",
              "      <td>never tried</td>\n",
              "      <td>14.0653</td>\n",
              "    </tr>\n",
              "    <tr>\n",
              "      <th>32989</th>\n",
              "      <td>people salt</td>\n",
              "      <td>13.5674</td>\n",
              "    </tr>\n",
              "    <tr>\n",
              "      <th>46944</th>\n",
              "      <td>taste expensive</td>\n",
              "      <td>13.4392</td>\n",
              "    </tr>\n",
              "    <tr>\n",
              "      <th>17118</th>\n",
              "      <td>flavor expensive</td>\n",
              "      <td>13.3144</td>\n",
              "    </tr>\n",
              "    <tr>\n",
              "      <th>17272</th>\n",
              "      <td>flavor order</td>\n",
              "      <td>13.2487</td>\n",
              "    </tr>\n",
              "    <tr>\n",
              "      <th>37302</th>\n",
              "      <td>repurchase</td>\n",
              "      <td>12.0891</td>\n",
              "    </tr>\n",
              "    <tr>\n",
              "      <th>8247</th>\n",
              "      <td>company much</td>\n",
              "      <td>12.0025</td>\n",
              "    </tr>\n",
              "    <tr>\n",
              "      <th>371</th>\n",
              "      <td>addicting</td>\n",
              "      <td>11.9878</td>\n",
              "    </tr>\n",
              "    <tr>\n",
              "      <th>3645</th>\n",
              "      <td>bbq</td>\n",
              "      <td>11.7636</td>\n",
              "    </tr>\n",
              "    <tr>\n",
              "      <th>10604</th>\n",
              "      <td>daughter</td>\n",
              "      <td>11.5545</td>\n",
              "    </tr>\n",
              "    <tr>\n",
              "      <th>11071</th>\n",
              "      <td>delicious</td>\n",
              "      <td>11.4912</td>\n",
              "    </tr>\n",
              "    <tr>\n",
              "      <th>408</th>\n",
              "      <td>addictive</td>\n",
              "      <td>11.3250</td>\n",
              "    </tr>\n",
              "    <tr>\n",
              "      <th>27990</th>\n",
              "      <td>mom</td>\n",
              "      <td>11.1217</td>\n",
              "    </tr>\n",
              "    <tr>\n",
              "      <th>49753</th>\n",
              "      <td>toddler</td>\n",
              "      <td>10.8579</td>\n",
              "    </tr>\n",
              "    <tr>\n",
              "      <th>52148</th>\n",
              "      <td>value</td>\n",
              "      <td>10.8577</td>\n",
              "    </tr>\n",
              "    <tr>\n",
              "      <th>48081</th>\n",
              "      <td>teriyaki</td>\n",
              "      <td>10.6131</td>\n",
              "    </tr>\n",
              "    <tr>\n",
              "      <th>2563</th>\n",
              "      <td>assortment</td>\n",
              "      <td>10.5003</td>\n",
              "    </tr>\n",
              "    <tr>\n",
              "      <th>5967</th>\n",
              "      <td>calories</td>\n",
              "      <td>10.4009</td>\n",
              "    </tr>\n",
              "    <tr>\n",
              "      <th>45605</th>\n",
              "      <td>strong wasabi</td>\n",
              "      <td>10.3950</td>\n",
              "    </tr>\n",
              "  </tbody>\n",
              "</table>\n",
              "</div>"
            ],
            "text/plain": [
              "                   word  coefficient\n",
              "46931     taste enjoyed      14.4975\n",
              "29189       never tried      14.0653\n",
              "32989       people salt      13.5674\n",
              "46944   taste expensive      13.4392\n",
              "17118  flavor expensive      13.3144\n",
              "17272      flavor order      13.2487\n",
              "37302        repurchase      12.0891\n",
              "8247       company much      12.0025\n",
              "371           addicting      11.9878\n",
              "3645                bbq      11.7636\n",
              "10604          daughter      11.5545\n",
              "11071         delicious      11.4912\n",
              "408           addictive      11.3250\n",
              "27990               mom      11.1217\n",
              "49753           toddler      10.8579\n",
              "52148             value      10.8577\n",
              "48081          teriyaki      10.6131\n",
              "2563         assortment      10.5003\n",
              "5967           calories      10.4009\n",
              "45605     strong wasabi      10.3950"
            ]
          },
          "execution_count": 120,
          "metadata": {},
          "output_type": "execute_result"
        }
      ],
      "source": [
        "# Fitting a simple xgboost on Counts\n",
        "import xgboost as xgb\n",
        "xgb = xgb.XGBClassifier(max_depth=7, n_estimators=200, colsample_bytree=0.8, \n",
        "                        subsample=0.8, nthread=10, learning_rate=0.1, booster ='gblinear')\n",
        "xgb_result = xgb.fit(xtrain_ctv.tocsc(), y_train)\n",
        "\n",
        "features = ctv.get_feature_names()\n",
        "feature_coefs = pd.DataFrame({'word' : features, 'coefficient': xgb.coef_})\n",
        "\n",
        "feature_coefs = feature_coefs.sort_values(['coefficient', 'word'], ascending = [0, 1])\n",
        "feature_coefs.head(20)"
      ]
    },
    {
      "cell_type": "code",
      "execution_count": null,
      "metadata": {
        "id": "0lh-c3XQltMl",
        "outputId": "b86c79fe-5b22-450e-8d6b-7d85a13a13e3"
      },
      "outputs": [
        {
          "name": "stdout",
          "output_type": "stream",
          "text": [
            "-Top 20 positive-\n",
            "             word  coefficient\n",
            "    taste enjoyed      14.4975\n",
            "      never tried      14.0653\n",
            "      people salt      13.5674\n",
            "  taste expensive      13.4392\n",
            " flavor expensive      13.3144\n",
            "     flavor order      13.2487\n",
            "       repurchase      12.0891\n",
            "     company much      12.0025\n",
            "        addicting      11.9878\n",
            "              bbq      11.7636\n",
            "         daughter      11.5545\n",
            "        delicious      11.4912\n",
            "        addictive      11.3250\n",
            "              mom      11.1217\n",
            "          toddler      10.8579\n",
            "            value      10.8577\n",
            "         teriyaki      10.6131\n",
            "       assortment      10.5003\n",
            "         calories      10.4009\n",
            "    strong wasabi      10.3950\n",
            "\n",
            "-Top 20 negative-\n",
            "              word  coefficient\n",
            "           suppose     -13.7097\n",
            " product described     -13.8801\n",
            "        chips also     -14.0368\n",
            "            greasy     -14.1224\n",
            " product delicious     -14.1717\n",
            "         tooliking     -14.2224\n",
            "              nope     -14.2725\n",
            "     stale product     -14.5926\n",
            "               ugh     -14.6681\n",
            "           changed     -14.6749\n",
            "       ordered got     -14.8407\n",
            "       tasted even     -15.0438\n",
            "              yuck     -15.8078\n",
            "       people care     -16.4091\n",
            "           ate bag     -16.8699\n",
            "     taste seaweed     -17.6583\n",
            "    enjoyed things     -19.1149\n",
            "       quite salty     -19.1534\n",
            "  product expected     -20.4834\n",
            "       chips tasty     -23.2920\n"
          ]
        }
      ],
      "source": [
        "print('-Top 20 positive-')\n",
        "print(feature_coefs.head(20).to_string(index=False))\n",
        "print('')\n",
        "print('-Top 20 negative-')        \n",
        "print(feature_coefs.tail(20).to_string(index=False)) "
      ]
    },
    {
      "cell_type": "markdown",
      "metadata": {
        "id": "sqyiUlmmltMm"
      },
      "source": [
        "### - Logistic regression"
      ]
    },
    {
      "cell_type": "code",
      "execution_count": null,
      "metadata": {
        "id": "KcWPVVBsltMm",
        "outputId": "e4c90701-418f-466e-ab8f-5c9ce7197eba"
      },
      "outputs": [
        {
          "data": {
            "text/html": [
              "<div>\n",
              "<style scoped>\n",
              "    .dataframe tbody tr th:only-of-type {\n",
              "        vertical-align: middle;\n",
              "    }\n",
              "\n",
              "    .dataframe tbody tr th {\n",
              "        vertical-align: top;\n",
              "    }\n",
              "\n",
              "    .dataframe thead th {\n",
              "        text-align: right;\n",
              "    }\n",
              "</style>\n",
              "<table border=\"1\" class=\"dataframe\">\n",
              "  <thead>\n",
              "    <tr style=\"text-align: right;\">\n",
              "      <th></th>\n",
              "      <th>word</th>\n",
              "      <th>coefficient</th>\n",
              "    </tr>\n",
              "  </thead>\n",
              "  <tbody>\n",
              "    <tr>\n",
              "      <th>11071</th>\n",
              "      <td>delicious</td>\n",
              "      <td>1.582491</td>\n",
              "    </tr>\n",
              "    <tr>\n",
              "      <th>42256</th>\n",
              "      <td>snack</td>\n",
              "      <td>1.205662</td>\n",
              "    </tr>\n",
              "    <tr>\n",
              "      <th>47706</th>\n",
              "      <td>tasty</td>\n",
              "      <td>1.172633</td>\n",
              "    </tr>\n",
              "    <tr>\n",
              "      <th>15767</th>\n",
              "      <td>favorite</td>\n",
              "      <td>1.130942</td>\n",
              "    </tr>\n",
              "    <tr>\n",
              "      <th>5967</th>\n",
              "      <td>calories</td>\n",
              "      <td>1.026885</td>\n",
              "    </tr>\n",
              "    <tr>\n",
              "      <th>43837</th>\n",
              "      <td>son</td>\n",
              "      <td>1.020963</td>\n",
              "    </tr>\n",
              "    <tr>\n",
              "      <th>23983</th>\n",
              "      <td>kids</td>\n",
              "      <td>1.005536</td>\n",
              "    </tr>\n",
              "    <tr>\n",
              "      <th>408</th>\n",
              "      <td>addictive</td>\n",
              "      <td>0.969737</td>\n",
              "    </tr>\n",
              "    <tr>\n",
              "      <th>10604</th>\n",
              "      <td>daughter</td>\n",
              "      <td>0.966203</td>\n",
              "    </tr>\n",
              "    <tr>\n",
              "      <th>17689</th>\n",
              "      <td>flavors</td>\n",
              "      <td>0.961235</td>\n",
              "    </tr>\n",
              "    <tr>\n",
              "      <th>15646</th>\n",
              "      <td>fast</td>\n",
              "      <td>0.951011</td>\n",
              "    </tr>\n",
              "    <tr>\n",
              "      <th>12693</th>\n",
              "      <td>easy</td>\n",
              "      <td>0.949395</td>\n",
              "    </tr>\n",
              "    <tr>\n",
              "      <th>3645</th>\n",
              "      <td>bbq</td>\n",
              "      <td>0.863981</td>\n",
              "    </tr>\n",
              "    <tr>\n",
              "      <th>52148</th>\n",
              "      <td>value</td>\n",
              "      <td>0.837409</td>\n",
              "    </tr>\n",
              "    <tr>\n",
              "      <th>4114</th>\n",
              "      <td>bit</td>\n",
              "      <td>0.836003</td>\n",
              "    </tr>\n",
              "    <tr>\n",
              "      <th>23757</th>\n",
              "      <td>keep</td>\n",
              "      <td>0.834083</td>\n",
              "    </tr>\n",
              "    <tr>\n",
              "      <th>343</th>\n",
              "      <td>addicted</td>\n",
              "      <td>0.800740</td>\n",
              "    </tr>\n",
              "    <tr>\n",
              "      <th>13890</th>\n",
              "      <td>enough</td>\n",
              "      <td>0.795018</td>\n",
              "    </tr>\n",
              "    <tr>\n",
              "      <th>10151</th>\n",
              "      <td>crunchy</td>\n",
              "      <td>0.769156</td>\n",
              "    </tr>\n",
              "    <tr>\n",
              "      <th>40346</th>\n",
              "      <td>seem</td>\n",
              "      <td>0.752639</td>\n",
              "    </tr>\n",
              "  </tbody>\n",
              "</table>\n",
              "</div>"
            ],
            "text/plain": [
              "            word  coefficient\n",
              "11071  delicious     1.582491\n",
              "42256      snack     1.205662\n",
              "47706      tasty     1.172633\n",
              "15767   favorite     1.130942\n",
              "5967    calories     1.026885\n",
              "43837        son     1.020963\n",
              "23983       kids     1.005536\n",
              "408    addictive     0.969737\n",
              "10604   daughter     0.966203\n",
              "17689    flavors     0.961235\n",
              "15646       fast     0.951011\n",
              "12693       easy     0.949395\n",
              "3645         bbq     0.863981\n",
              "52148      value     0.837409\n",
              "4114         bit     0.836003\n",
              "23757       keep     0.834083\n",
              "343     addicted     0.800740\n",
              "13890     enough     0.795018\n",
              "10151    crunchy     0.769156\n",
              "40346       seem     0.752639"
            ]
          },
          "execution_count": 122,
          "metadata": {},
          "output_type": "execute_result"
        }
      ],
      "source": [
        "log = LogisticRegression(C=1.0)\n",
        "log_result = log.fit(xtrain_ctv, y_train)\n",
        "\n",
        "features = ctv.get_feature_names()\n",
        "feature_coefs = pd.DataFrame(\n",
        "    data = list(zip(features, log_result.coef_[0])),\n",
        "    columns = ['word', 'coefficient'])\n",
        "\n",
        "feature_coefs = feature_coefs.sort_values(['coefficient', 'word'], ascending = [0, 1])\n",
        "feature_coefs.head(20)"
      ]
    },
    {
      "cell_type": "code",
      "execution_count": null,
      "metadata": {
        "id": "YD-mO2InltMm",
        "outputId": "b5d95434-c806-485e-b837-9784e584c4f9"
      },
      "outputs": [
        {
          "name": "stdout",
          "output_type": "stream",
          "text": [
            "-Top 20 positive-\n",
            "      word  coefficient\n",
            " delicious     1.582491\n",
            "     snack     1.205662\n",
            "     tasty     1.172633\n",
            "  favorite     1.130942\n",
            "  calories     1.026885\n",
            "       son     1.020963\n",
            "      kids     1.005536\n",
            " addictive     0.969737\n",
            "  daughter     0.966203\n",
            "   flavors     0.961235\n",
            "      fast     0.951011\n",
            "      easy     0.949395\n",
            "       bbq     0.863981\n",
            "     value     0.837409\n",
            "       bit     0.836003\n",
            "      keep     0.834083\n",
            "  addicted     0.800740\n",
            "    enough     0.795018\n",
            "   crunchy     0.769156\n",
            "      seem     0.752639\n",
            "\n",
            "-Top 20 negative-\n",
            "       word  coefficient\n",
            "       date    -0.939042\n",
            "     opened    -0.942676\n",
            "      boxes    -0.952218\n",
            "      fishy    -0.955349\n",
            "     tasted    -0.989324\n",
            "    expired    -1.084274\n",
            "      threw    -1.130120\n",
            "  cardboard    -1.131511\n",
            "       hard    -1.145988\n",
            "    crushed    -1.212656\n",
            "        box    -1.223059\n",
            " disgusting    -1.248249\n",
            "       fish    -1.259242\n",
            "     return    -1.265660\n",
            "   received    -1.312428\n",
            "      sorry    -1.354769\n",
            "      nasty    -1.608265\n",
            "     crumbs    -1.621786\n",
            "       yuck    -1.655941\n",
            "      stale    -1.783186\n"
          ]
        }
      ],
      "source": [
        "print('-Top 20 positive-')\n",
        "print(feature_coefs.head(20).to_string(index=False))\n",
        "print('')\n",
        "print('-Top 20 negative-')        \n",
        "print(feature_coefs.tail(20).to_string(index=False)) "
      ]
    },
    {
      "cell_type": "code",
      "execution_count": null,
      "metadata": {
        "id": "9lg9koRkltMm"
      },
      "outputs": [],
      "source": [
        "p = feature_coefs.head(20)\n",
        "n = feature_coefs.tail(20)"
      ]
    },
    {
      "cell_type": "code",
      "execution_count": null,
      "metadata": {
        "id": "9Ik7DhyfltMm",
        "outputId": "65999de3-1719-4519-9fd8-2aa5b0958c10"
      },
      "outputs": [
        {
          "data": {
            "image/png": "[encoded data removed]",
            "text/plain": [
              "<Figure size 864x576 with 1 Axes>"
            ]
          },
          "metadata": {},
          "output_type": "display_data"
        },
        {
          "data": {
            "text/plain": [
              "<Figure size 720x1440 with 0 Axes>"
            ]
          },
          "metadata": {},
          "output_type": "display_data"
        },
        {
          "data": {
            "image/png": "[encoded data removed]",
            "text/plain": [
              "<Figure size 864x576 with 1 Axes>"
            ]
          },
          "metadata": {},
          "output_type": "display_data"
        },
        {
          "data": {
            "text/plain": [
              "<Figure size 720x1440 with 0 Axes>"
            ]
          },
          "metadata": {},
          "output_type": "display_data"
        }
      ],
      "source": [
        "p_y = p['word'].values\n",
        "p_x = p['coefficient'].sort_values(ascending=False).values\n",
        "\n",
        "n_y = n['word'].values\n",
        "n_x = n['coefficient'].sort_values().values\n",
        "\n",
        "sns.set(style=\"whitegrid\")\n",
        "ax1 = sns.barplot(x=p_x, y=p_y, palette=\"Blues\", label=p_y)\n",
        "ax1.yaxis.tick_right()\n",
        "ax1.yaxis.set_label_position('right')\n",
        "ax1.set_title('Positive keywords')\n",
        "plt.figure(figsize=(10,20))\n",
        "plt.show()\n",
        "\n",
        "ax2 = sns.barplot(x=n_x, y=n_y, palette=\"OrRd\", label=n_y)\n",
        "ax2.yaxis.tick_left()\n",
        "ax2.yaxis.set_label_position('left')\n",
        "ax2.set_title('Negative keywords')\n",
        "plt.figure(figsize=(10,20))\n",
        "plt.show()"
      ]
    },
    {
      "cell_type": "code",
      "execution_count": null,
      "metadata": {
        "id": "2XmJmtp5ltMn"
      },
      "outputs": [],
      "source": []
    }
  ],
  "metadata": {
    "kernelspec": {
      "display_name": "Python 3",
      "language": "python",
      "name": "python3"
    },
    "language_info": {
      "codemirror_mode": {
        "name": "ipython",
        "version": 3
      },
      "file_extension": ".py",
      "mimetype": "text/x-python",
      "name": "python",
      "nbconvert_exporter": "python",
      "pygments_lexer": "ipython3",
      "version": "3.7.3"
    },
    "colab": {
      "provenance": []
    }
  },
  "nbformat": 4,
  "nbformat_minor": 0
}